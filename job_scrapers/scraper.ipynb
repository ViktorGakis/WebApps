{
 "cells": [
  {
   "cell_type": "code",
   "execution_count": 1,
   "metadata": {},
   "outputs": [],
   "source": [
    "from IPython.core.interactiveshell import InteractiveShell\n",
    "\n",
    "InteractiveShell.ast_node_interactivity = \"all\"\n",
    "\n",
    "from typing import Any\n",
    "from typing import Optional, Union\n",
    "from pathlib import Path\n",
    "from bs4 import BeautifulSoup, NavigableString, ResultSet, Tag\n",
    "from selenium.webdriver.remote.webelement import WebElement\n",
    "from selenium.webdriver.remote.webdriver import WebDriver\n",
    "import aiohttp\n",
    "import asyncio\n",
    "from aiohttp import ClientError, ClientTimeout\n",
    "from chompjs import parse_js_object, parse_js_objects\n",
    "import pprint\n",
    "import pandas as pd\n",
    "from pandas import DataFrame\n",
    "from typing import Callable, Optional, Any\n",
    "import aiohttp\n",
    "import asyncio\n",
    "from sqlalchemy import inspect\n",
    "from typing import Coroutine, Any\n",
    "import importlib\n",
    "\n",
    "\n",
    "def read_from_file(filepath: Path, parser: str) -> BeautifulSoup:\n",
    "    with filepath.open(mode=\"r\", encoding=\"utf-8\") as file:\n",
    "        return BeautifulSoup(file.read(), features=parser)\n",
    "\n",
    "\n",
    "def write_to_file(filepath: Path, soupen: BeautifulSoup):\n",
    "    with filepath.open(mode=\"w\", encoding=\"utf-8\") as file:\n",
    "        file.write(str(soupen.prettify()))\n",
    "\n",
    "\n",
    "def write_string_to_txt_file(file_path, content):\n",
    "    try:\n",
    "        # Create a Path object from the provided file path\n",
    "        path = Path(file_path)\n",
    "\n",
    "        # Write the content to the file\n",
    "        with path.open(mode=\"w\", encoding=\"utf-8\") as file:\n",
    "            file.write(content)\n",
    "\n",
    "        print(f\"Successfully wrote the string to '{file_path}'.\")\n",
    "    except Exception as e:\n",
    "        print(f\"An error occurred: {e}\")\n",
    "\n",
    "\n",
    "def soup(\n",
    "    source: Union[\n",
    "        BeautifulSoup, NavigableString, ResultSet, Tag, WebElement, WebDriver, str, Path\n",
    "    ],\n",
    "    parser=\"html.parser\",\n",
    "    filepath: Optional[Path | str] = \"temp.html\",\n",
    ") -> BeautifulSoup:\n",
    "    soupen = None\n",
    "\n",
    "    if isinstance(source, (BeautifulSoup, NavigableString, ResultSet, Tag)):\n",
    "        soupen = source\n",
    "    elif isinstance(source, Path) and source.exists():\n",
    "        soupen = read_from_file(source, parser)\n",
    "    elif isinstance(source, str):\n",
    "        path = Path(source)\n",
    "        if path.exists():\n",
    "            soupen = read_from_file(path, parser)\n",
    "        else:\n",
    "            soupen = BeautifulSoup(source, features=parser)\n",
    "    elif isinstance(source, WebElement):\n",
    "        source_html: str = source.get_attribute(\"innerHTML\")\n",
    "        soupen = BeautifulSoup(source_html, features=parser)\n",
    "    elif isinstance(source, WebDriver):\n",
    "        source_html: str = source.page_source\n",
    "        soupen = BeautifulSoup(source_html, features=parser)\n",
    "\n",
    "    if filepath and soupen is not None:\n",
    "        path = Path(filepath)\n",
    "        path.parent.mkdir(parents=True, exist_ok=True)\n",
    "        write_to_file(path, soupen)\n",
    "\n",
    "    return soupen"
   ]
  },
  {
   "cell_type": "code",
   "execution_count": 9,
   "metadata": {},
   "outputs": [
    {
     "data": {
      "text/plain": [
       "'language-skills%5B%5D=&language-skills%5B%5D=de&language-skills%5B%5D=en&language-skills%5B%5D=fr&language-skills%5B%5D=it&location=Switzerland&query=Software+Engineer&rows=0'"
      ]
     },
     "execution_count": 9,
     "metadata": {},
     "output_type": "execute_result"
    }
   ],
   "source": [
    "from urllib.parse import urlencode\n",
    "\n",
    "params = [\n",
    "    (\"language-skills[]\", \"\"),\n",
    "    (\"language-skills[]\", \"de\"),\n",
    "    (\"language-skills[]\", \"en\"),\n",
    "    (\"language-skills[]\", \"fr\"),\n",
    "    (\"language-skills[]\", \"it\"),\n",
    "    (\"location\", \"Switzerland\"),\n",
    "    (\"query\", \"Software Engineer\"),\n",
    "    (\"rows\", \"0\")\n",
    "]\n",
    "\n",
    "url_params = urlencode(params)\n",
    "url_params"
   ]
  },
  {
   "cell_type": "code",
   "execution_count": null,
   "metadata": {},
   "outputs": [],
   "source": []
  },
  {
   "cell_type": "code",
   "execution_count": 2,
   "metadata": {},
   "outputs": [],
   "source": [
    "BASE_URL: str = \"https://www.jobs.ch/en/\"\n",
    "BASE_URL_JOBS: str = \"https://www.jobs.ch/en/vacancies/\"\n",
    "BASE_URL_COMPANY: str = \"https://www.jobs.ch/en/companies/\"\n",
    "BASE_URL_JOB_VAR: str = f\"{BASE_URL_JOBS}\" + \"detail/{0}\"\n",
    "BASE_URL_COMPANY_VAR: str = \"https://www.jobs.ch/en/companies/{0}/\"\n",
    "BASE_URL_JOBS_SEARCH: str = (\n",
    "    BASE_URL_JOBS + \"?location={location}&publication-date={pub_date}&term={term}\"\n",
    ")\n",
    "\n",
    "BASE_API_URL_COMPANY_VAR: str = \"https://www.jobs.ch/api/v1/public/company/{company_id}\""
   ]
  },
  {
   "cell_type": "code",
   "execution_count": null,
   "metadata": {},
   "outputs": [],
   "source": [
    "# rows=20\n",
    "BASE_API_URL_JOBS_VAR = \"https://www.jobs.ch/api/v1/public/search?location={location}&query={query}&rows={rows}\"\n",
    "referer=\"https://www.jobs.ch/en/vacancies/?location=switzerland&term=python\""
   ]
  },
  {
   "cell_type": "code",
   "execution_count": 55,
   "metadata": {},
   "outputs": [
    {
     "name": "stdout",
     "output_type": "stream",
     "text": [
      "publication-date-from=2023-08-05%2000%3A00%3A00&publication-date-to=2023-08-05%2023%3A59%3A59\n"
     ]
    }
   ],
   "source": [
    "\n",
    "\n",
    "# Test the function\n",
    "print(generate_dates(1)) # for 24 hours\n",
    "    \n",
    "# generate_dates('24h')\n",
    "# \"2023-08-05%2000%3A00%3A00\"\n",
    "# \"2023-08-06%2023%3A59%3A59\"\n",
    "\n"
   ]
  },
  {
   "cell_type": "code",
   "execution_count": 3,
   "metadata": {},
   "outputs": [
    {
     "name": "stderr",
     "output_type": "stream",
     "text": [
      "\u001b[30;1m2023-08-06 07:32:58\u001b[0m \u001b[34;1mINFO\u001b[0m \u001b[35minterface.backend.db - init - \u001b[95;1m26: \u001b[37;0mDb initialized.\n"
     ]
    }
   ],
   "source": [
    "from interface.backend import db\n",
    "\n",
    "await db.init()"
   ]
  },
  {
   "cell_type": "code",
   "execution_count": 4,
   "metadata": {},
   "outputs": [],
   "source": [
    "async def _make_request(\n",
    "    session: aiohttp.ClientSession,\n",
    "    url: str,\n",
    "    headers: Optional[dict] = None,\n",
    "    cookies: Optional[dict] = None,\n",
    ") -> Any:\n",
    "    async with session.get(url, headers=headers, cookies=cookies) as response:\n",
    "        if response.status == 200:\n",
    "            return await response.text()\n",
    "        print(f\"Failed to fetch {url}. Status: {response.status}\")\n",
    "        return None\n",
    "\n",
    "\n",
    "async def fetch(\n",
    "    session: aiohttp.ClientSession,\n",
    "    url: str,\n",
    "    retries=3,\n",
    "    timeout_for_wait: Optional[float] = None,\n",
    "    headers: Optional[dict] = None,\n",
    "    cookies: Optional[dict] = None,\n",
    "    function: Optional[Callable] = None,\n",
    ") -> Any:\n",
    "    for i in range(retries):\n",
    "        try:\n",
    "            content = await asyncio.wait_for(\n",
    "                _make_request(session, url, headers, cookies), timeout=timeout_for_wait\n",
    "            )\n",
    "            return (\n",
    "                function(content, session, url, headers, cookies)\n",
    "                if function\n",
    "                else soup(content)\n",
    "            )\n",
    "        except (aiohttp.ClientError, asyncio.TimeoutError) as e:\n",
    "            if i == retries - 1:  # This was the last attempt\n",
    "                print(f\"Failed to fetch {url} after {retries} attempts. Error: {e}\")\n",
    "                return None\n",
    "\n",
    "\n",
    "async def fetch_all(items, retries=3, timeout_for_session=5) -> list:\n",
    "    timeout = aiohttp.ClientTimeout(total=timeout_for_session)\n",
    "    async with aiohttp.ClientSession(timeout=timeout) as session:\n",
    "        tasks = [\n",
    "            fetch(\n",
    "                session,\n",
    "                item[\"url\"],\n",
    "                retries,\n",
    "                timeout_for_session,\n",
    "                item.get(\"headers\"),\n",
    "                item.get(\"cookies\"),\n",
    "                item.get(\"function\"),\n",
    "            )\n",
    "            for item in items\n",
    "        ]\n",
    "        return await asyncio.gather(*tasks)\n"
   ]
  },
  {
   "cell_type": "code",
   "execution_count": 5,
   "metadata": {},
   "outputs": [],
   "source": [
    "def construct_query_url(term=\"\", location=\"\", pub_date=\"\") -> str:\n",
    "    return BASE_URL_JOBS_SEARCH.format(term=term, location=location, pub_date=pub_date)\n",
    "\n",
    "\n",
    "async def create_query(term, location, pub_date):\n",
    "    return await db.create_objs(\n",
    "        db.models.Query,\n",
    "        [\n",
    "            dict(\n",
    "                url=construct_query_url(term=term, location=location, pub_date=pub_date)\n",
    "            )\n",
    "        ],\n",
    "    )\n",
    "\n",
    "\n",
    "async def update_query(primary_key, column_value_dict, model):\n",
    "    return await db.update_objs([primary_key], model, column_value_dict)"
   ]
  },
  {
   "cell_type": "code",
   "execution_count": 6,
   "metadata": {},
   "outputs": [],
   "source": [
    "async def analyse_html(html: str, filepath: str):\n",
    "    html_soup: BeautifulSoup = soup(source=html, filepath=filepath)\n",
    "\n",
    "    script_tag: Tag | NavigableString | None = html_soup.find(\n",
    "        \"script\",\n",
    "        string=lambda x: all(\n",
    "            text_string in x\n",
    "            for text_string in [\n",
    "                \"__INIT__\",\n",
    "                \"pageTitle\",\n",
    "                \"pageDescription\",\n",
    "                \"numPages\",\n",
    "                \"totalHits\",\n",
    "            ]\n",
    "        )\n",
    "        if x is not None\n",
    "        else False,\n",
    "    )\n",
    "\n",
    "    if script_tag:\n",
    "        data_parsed = [x for x in list(parse_js_objects(script_tag.string)) if x]\n",
    "        return data_parsed\n",
    "    else:\n",
    "        print(\"Script tag was not found in the html.\")\n",
    "\n",
    "\n",
    "# debug\n",
    "# write_string_to_txt_file(\"scrapers/jobsdotch/temp.txt\", script_tag.string)\n",
    "\n",
    "\n",
    "# debug\n",
    "# write_string_to_txt_file(\"data_parsed.py\", data_parsed)\n",
    "# with open(\"scrapers/jobsdotch/data_parsed.py\", \"w\") as file:\n",
    "# Pretty print the list and write it to the file\n",
    "# pprint.pprint(data_parsed, stream=file)"
   ]
  },
  {
   "cell_type": "markdown",
   "metadata": {},
   "source": [
    "### query\n"
   ]
  },
  {
   "cell_type": "code",
   "execution_count": 7,
   "metadata": {},
   "outputs": [],
   "source": [
    "async def extract_query_info(job_query: dict) -> dict[str, Any]:\n",
    "    return {\n",
    "        \"clientClassification\": job_query.get(\"botDetect\", {}).get(\n",
    "            \"clientClassification\"\n",
    "        ),\n",
    "        \"pageTitle\": job_query.get(\"seo\", {}).get(\"meta\", {}).get(\"pageTitle\"),\n",
    "        \"pageDescription\": job_query.get(\"seo\", {})\n",
    "        .get(\"meta\", {})\n",
    "        .get(\"pageDescription\"),\n",
    "        \"pageList\": str(\n",
    "            job_query.get(\"vacancy\", {}).get(\"traversal\", {}).get(\"pageList\")\n",
    "        ),\n",
    "        \"numPages\": job_query.get(\"vacancy\", {})\n",
    "        .get(\"results\", {})\n",
    "        .get(\"main\", {})\n",
    "        .get(\"meta\", {})\n",
    "        .get(\"numPages\"),\n",
    "        \"totalHits\": job_query.get(\"vacancy\", {})\n",
    "        .get(\"results\", {})\n",
    "        .get(\"main\", {})\n",
    "        .get(\"meta\", {})\n",
    "        .get(\"totalHits\"),\n",
    "        \"searchQuery\": job_query.get(\"vacancy\", {})\n",
    "        .get(\"results\", {})\n",
    "        .get(\"main\", {})\n",
    "        .get(\"meta\", {})\n",
    "        .get(\"searchQuery\"),\n",
    "    }\n",
    "\n",
    "\n",
    "# queryInfo = extract_query_info(data_parsed[1])\n",
    "# queryInfo['pageList'] = str(queryInfo['pageList'])\n",
    "# query_df = pd.DataFrame(query_info).rename_axis('id')\n",
    "# query_df.index += 1\n",
    "# query_df\n",
    "# queryInfo\n",
    "\n",
    "\n",
    "async def handle_result(pkey, results, model, filepath):\n",
    "    data_parsed = await analyse_html(results[0], filepath)\n",
    "\n",
    "    queryInfo = await extract_query_info(data_parsed[1])\n",
    "\n",
    "    await update_query([pkey], [queryInfo], model)\n",
    "\n",
    "    return queryInfo, data_parsed"
   ]
  },
  {
   "cell_type": "code",
   "execution_count": 7,
   "metadata": {},
   "outputs": [],
   "source": [
    "# query_df.to_sql('query', db.engineSync, if_exists='append')\n"
   ]
  },
  {
   "cell_type": "code",
   "execution_count": null,
   "metadata": {},
   "outputs": [
    {
     "data": {
      "text/plain": [
       "'bot'"
      ]
     },
     "execution_count": 21,
     "metadata": {},
     "output_type": "execute_result"
    },
    {
     "data": {
      "text/plain": [
       "'585 jobs in Switzerland - jobs.ch'"
      ]
     },
     "execution_count": 21,
     "metadata": {},
     "output_type": "execute_result"
    },
    {
     "data": {
      "text/plain": [
       "'Apply now for jobs in Switzerland! We have everything for your next job.'"
      ]
     },
     "execution_count": 21,
     "metadata": {},
     "output_type": "execute_result"
    },
    {
     "data": {
      "text/plain": [
       "[1]"
      ]
     },
     "execution_count": 21,
     "metadata": {},
     "output_type": "execute_result"
    },
    {
     "data": {
      "text/plain": [
       "30"
      ]
     },
     "execution_count": 21,
     "metadata": {},
     "output_type": "execute_result"
    },
    {
     "data": {
      "text/plain": [
       "585"
      ]
     },
     "execution_count": 21,
     "metadata": {},
     "output_type": "execute_result"
    },
    {
     "data": {
      "text/plain": [
       "'location=Switzerland'"
      ]
     },
     "execution_count": 21,
     "metadata": {},
     "output_type": "execute_result"
    }
   ],
   "source": [
    "data_parsed[1][\"botDetect\"][\"clientClassification\"]\n",
    "data_parsed[1][\"seo\"][\"meta\"][\"pageTitle\"]\n",
    "data_parsed[1][\"seo\"][\"meta\"][\"pageDescription\"]\n",
    "data_parsed[1][\"vacancy\"][\"traversal\"][\"pageList\"]\n",
    "data_parsed[1][\"vacancy\"][\"results\"][\"main\"][\"meta\"][\"numPages\"]\n",
    "data_parsed[1][\"vacancy\"][\"results\"][\"main\"][\"meta\"][\"totalHits\"]\n",
    "data_parsed[1][\"vacancy\"][\"results\"][\"main\"][\"meta\"][\"searchQuery\"]\n"
   ]
  },
  {
   "cell_type": "markdown",
   "metadata": {},
   "source": [
    "### subqueries\n"
   ]
  },
  {
   "cell_type": "code",
   "execution_count": 8,
   "metadata": {},
   "outputs": [],
   "source": [
    "def generate_subqueries_urls(base_url, numPages) -> list[str]:\n",
    "    return [f\"{base_url}&page={x}\" for x in range(1, numPages + 1)]\n",
    "\n",
    "\n",
    "async def generate_subqueries(queryInfo, queryPrimaryKey):\n",
    "    numPages = queryInfo[\"numPages\"]\n",
    "    base_url = (await db.retrieve_objs([queryPrimaryKey], db.models.Query))[0].url\n",
    "    if numPages > 1:\n",
    "        urls: list[str] = generate_subqueries_urls(base_url, numPages)\n",
    "        primaryIds: list[Any] = await db.create_objs(\n",
    "            db.models.SubQuery, [dict(url=url, queryId=queryPrimaryKey) for url in urls]\n",
    "        )\n",
    "    else:\n",
    "        primaryIds = [queryPrimaryKey]\n",
    "    return primaryIds"
   ]
  },
  {
   "cell_type": "code",
   "execution_count": 9,
   "metadata": {},
   "outputs": [],
   "source": [
    "async def mainEn(\n",
    "    term=\"\",\n",
    "    location=\"Switzerland\",\n",
    "    pub_date=\"\",\n",
    "    headers: Optional[dict] = None,\n",
    "    cookies: Optional[dict] = None,\n",
    ") -> Coroutine[Any, Any, None]:\n",
    "    queryPrimaryKey = (await create_query(term, location, pub_date))[0][0]\n",
    "\n",
    "    items: list[dict[str, Any]] = [\n",
    "        {\n",
    "            \"url\": (await db.retrieve_objs([queryPrimaryKey], db.models.Query))[0].url,\n",
    "            \"name\": \"\",\n",
    "            \"headers\": {},\n",
    "            \"cookies\": {},\n",
    "            \"function\": None,  # This is a simple example function\n",
    "        },\n",
    "        # Add more dictionaries for more URLs\n",
    "    ]\n",
    "\n",
    "    results = await fetch_all(items)\n",
    "\n",
    "    if results:\n",
    "        queryInfo, data_parsed = await handle_result(\n",
    "            queryPrimaryKey,\n",
    "            results,\n",
    "            db.models.Query,\n",
    "            f\"./data/html/query/{queryPrimaryKey}.html\",\n",
    "        )\n",
    "\n",
    "        subQueriesPrimaryKeys: list[int] = await generate_subqueries(\n",
    "            queryInfo, queryPrimaryKey\n",
    "        )\n",
    "\n",
    "        # scrape each subQueriesPrimaryKeys\n",
    "        # fetch each subquery\n",
    "        # extract subQueryInfo\n",
    "        # extract Jobs(create jobs table with job+info, queryPm, subqueryPm)\n",
    "        # increment jobs in in subquery and query\n",
    "\n",
    "    return queryInfo, data_parsed, subQueriesPrimaryKeys\n",
    "    # return queryPrimaryKey, queryInfo, subQueriesPrimaryKeys\n",
    "\n",
    "\n",
    "queryInfo, data_parsed, subQueriesPrimaryKeys = await mainEn()\n",
    "\n",
    "# queryPrimaryKey, queryInfo, subqueriesPrimaryIds = await mainEn()"
   ]
  },
  {
   "cell_type": "code",
   "execution_count": 10,
   "metadata": {},
   "outputs": [],
   "source": [
    "subQueries = await db.retrieve_objs(subQueriesPrimaryKeys, db.models.SubQuery)\n",
    "for idx, subq in enumerate(subQueries, start=1):\n",
    "    items: list[dict[str, Any]] = [\n",
    "        {\n",
    "            \"url\": subq.url,\n",
    "            \"name\": \"\",\n",
    "            \"headers\": {},\n",
    "            \"cookies\": {},\n",
    "            \"function\": None,  # This is a simple example function\n",
    "        },\n",
    "        # Add more dictionaries for more URLs\n",
    "    ]\n",
    "    if result := await fetch_all(items):\n",
    "        queryInfo: dict[str, Any] = await handle_result(\n",
    "            subq.id,\n",
    "            result,\n",
    "            db.models.SubQuery,\n",
    "            f\"./data/html/subqueries/{subq.queryId}/{subq.id}.html\",\n",
    "        )\n",
    "\n",
    "    await asyncio.sleep(1)\n",
    "    if idx == 2:\n",
    "        break"
   ]
  },
  {
   "cell_type": "code",
   "execution_count": 15,
   "metadata": {},
   "outputs": [
    {
     "ename": "IntegrityError",
     "evalue": "(sqlite3.IntegrityError) UNIQUE constraint failed: jobs.id\n[SQL: INSERT INTO jobs (id, title, \"initialPublicationDate\", \"publicationDate\", \"employmentGrades\", preview, logo, \"isActive\", place, \"salaryFrom\", \"salaryTo\", \"languageSkills\", \"company.name\", \"company.id\", \"company.slug\", \"company.visible\", \"company.logoImage.src\", \"company.logoImage.height\", \"company.logoImage.width\", \"company.url\", job_url, \"queryId\", \"subQueryId\", \"dateLog\") VALUES (?, ?, ?, ?, ?, ?, ?, ?, ?, ?, ?, ?, ?, ?, ?, ?, ?, ?, ?, ?, ?, ?, ?, CURRENT_TIMESTAMP)]\n[parameters: (('', 'Head of Finance - Banking', '2023-08-04 17:06:49.000000', '2023-08-04 17:05:11.000000', '100%', 'Client: \\nA leading, innovative, modern bank with a strong presence in Switzerland. We have been asked to find someone with CFO potential for this ...', nan, 1, '1211 Geneva, Switzerland', None, None, \"[{'language': 'fr', 'level': 3}, {'language': 'en', 'level': 3}]\", 'FINDERS SA', '69679', '69679-finders-sa', 1, nan, nan, nan, 'https://www.jobs.ch/en/companies/69679/', 'https://www.jobs.ch/en/vacancies/detail/', None, None), ('', 'Sales Specialist m/f/d (80-100%)', '2023-08-03 10:07:18.000000', '2023-08-03 10:05:16.000000', '80% – 100%', 'Responsible to develop the Energy market by executing sales strategy to achieve and exceed the sales target and ensure high levels of customer satisfa', 'https://media.jobs.ch/images/15277a6d-aaa1-471d-aa28-0b76b85d486a/124x44.png', 1, 'Turgi, Aargau, Switzerland', None, None, \"[{'language': 'en', 'level': 3}, {'language': 'de', 'level': 1}, {'language': 'fr', 'level': 1}]\", 'ABB Switzerland Ltd', '55089', '55089-abb-switzerland-ltd', 1, 'https://media.jobs.ch/images/15277a6d-aaa1-471d-aa28-0b76b85d486a/124x44.png', 44.0, 124.0, 'https://www.jobs.ch/en/companies/55089/', 'https://www.jobs.ch/en/vacancies/detail/', None, None), ('', 'Summer Camps Junior Coaches - Various Activities', '2023-07-04 10:06:55.000000', '2023-08-03 01:58:57.000000', '80% – 100%', 'Foundation \\nLa Grande Boissière/ La Châtaigneraie/ Nations \\nEcolint Camps Department \\nSeeks for Summer Camps 2023 and/or Half term holidays ...', nan, 1, 'Geneva, Switzerland', None, None, '[]', 'Ecolint', '78430', '78430-ecolint', 1, nan, nan, nan, 'https://www.jobs.ch/en/companies/78430/', 'https://www.jobs.ch/en/vacancies/detail/', None, None), ('', 'Mechaniker:in als Einfahrer:in 100 %', '2023-07-31 05:06:45.000000', '2023-07-31 05:05:12.000000', '100%', 'Die Aebi Schmidt Group sucht für das Produktionswerk in\\xa0CH-3401 Burgdorf\\xa0eine:n \\nMechaniker:in als Einfahrer:in 100 % \\nDeine Aufgaben: \\nDu fährst ...', 'https://media.jobs.ch/images/02f2f808-3aa6-486e-a3be-6cd9b692abb8/124x44.png', 1, 'Burgdorf, Berne, Switzerland', None, None, \"[{'language': 'de', 'level': 4}]\", 'Aebi & Co. AG', '32536', '32536-aebi-and-co-ag', 1, 'https://media.jobs.ch/images/02f2f808-3aa6-486e-a3be-6cd9b692abb8/124x44.png', 44.0, 124.0, 'https://www.jobs.ch/en/companies/32536/', 'https://www.jobs.ch/en/vacancies/detail/', None, None), ('', 'Area Sales Manager Operations 80 - 100% (w/m/d)', '2023-07-28 10:36:58.000000', '2023-07-28 10:35:22.000000', '80% – 100%', 'Die Business Unit Operations ist organisatorisch der Hamilton Bonaduz AG angegliedert, produziert aber Teile für alle Hamilton-Firmen. Ziel von ...', 'https://media.jobs.ch/images/33cfd4b4-e867-4eef-b59c-5374ad35af6f/Logo_Hamilton_Bonaduz_300x150-300x150.png', 1, 'Switzerland', None, None, \"[{'language': 'de', 'level': 2}]\", 'Hamilton Services AG', '32690', '32690-hamilton-services-ag', 1, 'https://media.jobs.ch/images/33cfd4b4-e867-4eef-b59c-5374ad35af6f/Logo_Hamilton_Bonaduz_300x150-300x150.png', 44.0, 124.0, 'https://www.jobs.ch/en/companies/32690/', 'https://www.jobs.ch/en/vacancies/detail/', None, None), ('', 'Global Education Manager Surgical & Wound Care 80%', '2023-07-27 06:00:00.000000', '2023-07-28 03:00:00.000000', '80%', 'You are on a mission of establishing patient-centered care? You enjoy driving education and innovation. You are looking for a position to make the ...', 'https://media.jobs.ch/images/63f17d5a-715d-46e3-98bf-fac74a634a8b/248x88.png', 1, 'Baar - Switzerland', None, None, '[]', 'Medela AG', '2092', '2092-medela-ag', 1, 'https://media.jobs.ch/images/63f17d5a-715d-46e3-98bf-fac74a634a8b/248x88.png', 44.0, 124.0, 'https://www.jobs.ch/en/companies/2092/', 'https://www.jobs.ch/en/vacancies/detail/', None, None), ('', '(Senior) Scientist Ph.D. Power Electronic Converters (80-100%)', '2023-07-27 14:06:50.000000', '2023-07-27 14:04:55.000000', '80% – 100%', 'The mission of this team is to bring modern and disruptive power electronic solutions from research into product development. We improve our products', 'https://media.jobs.ch/images/15277a6d-aaa1-471d-aa28-0b76b85d486a/124x44.png', 1, 'Baden-Dattwil, Aargau, Switzerland', None, None, \"[{'language': 'en', 'level': 3}]\", 'ABB Switzerland Ltd', '55089', '55089-abb-switzerland-ltd', 1, 'https://media.jobs.ch/images/15277a6d-aaa1-471d-aa28-0b76b85d486a/124x44.png', 44.0, 124.0, 'https://www.jobs.ch/en/companies/55089/', 'https://www.jobs.ch/en/vacancies/detail/', None, None), ('', 'Electrical Engineer (80-100%)', '2023-07-27 13:36:55.000000', '2023-07-27 13:34:58.000000', '80% – 100%', 'In this role, you will help defining development opportunities in the ABB power device and switchgear portfolio through to-the-application designed ex', 'https://media.jobs.ch/images/15277a6d-aaa1-471d-aa28-0b76b85d486a/124x44.png', 1, 'Baden-Dattwil, Aargau, Switzerland', None, None, \"[{'language': 'en', 'level': 2}, {'language': 'de', 'level': 1}]\", 'ABB Switzerland Ltd', '55089', '55089-abb-switzerland-ltd', 1, 'https://media.jobs.ch/images/15277a6d-aaa1-471d-aa28-0b76b85d486a/124x44.png', 44.0, 124.0, 'https://www.jobs.ch/en/companies/55089/', 'https://www.jobs.ch/en/vacancies/detail/', None, None)  ... displaying 10 of 20 total bound parameter sets ...  ('', 'Temporary Group FP&A Analyst (maternity cover)', '2023-07-18 13:37:10.000000', '2023-07-18 13:33:26.000000', '100%', 'Temporary Group FP&A Analyst (maternity cover) \\nHeadquartered in Cham, Switzerland since 1957, Selecta Group is a Foodtech company with a leading ...', 'https://media.jobs.ch/images/4a231cc8-8394-403c-8cf9-ab704825774b/124x44.png', 1, 'Cham, Switzerland', None, None, \"[{'language': 'en', 'level': 3}]\", 'Selecta AG', '2596', '2596-selecta-ag', 1, 'https://media.jobs.ch/images/4a231cc8-8394-403c-8cf9-ab704825774b/124x44.png', 44.0, 124.0, 'https://www.jobs.ch/en/companies/2596/', 'https://www.jobs.ch/en/vacancies/detail/', None, None), ('', 'Uhrmacher/in Produktion,100 %', '2023-07-18 09:07:06.000000', '2023-07-18 09:04:46.000000', '100%', 'Zur Unterstützung der Abteilungen T2 / T3 suchen wir per nächstmöglichen Termin einen/eine Uhrmacher/in Produktion.', 'https://media.jobs.ch/images/0dc3707e-9ed7-4e90-b1f9-938606755b17/124x44.png', 1, 'Solothurn, Switzerland', None, None, \"[{'language': 'de', 'level': 2}]\", 'Remonta AG', '41241', '41241-remonta-ag', 1, 'https://media.jobs.ch/images/0dc3707e-9ed7-4e90-b1f9-938606755b17/124x44.png', 44.0, 124.0, 'https://www.jobs.ch/en/companies/41241/', 'https://www.jobs.ch/en/vacancies/detail/', None, None))]\n(Background on this error at: https://sqlalche.me/e/14/gkpj)",
     "output_type": "error",
     "traceback": [
      "\u001b[1;31m---------------------------------------------------------------------------\u001b[0m",
      "\u001b[1;31mIntegrityError\u001b[0m                            Traceback (most recent call last)",
      "File \u001b[1;32mc:\\Users\\JustAnotherBot\\miniconda3\\envs\\ibmenv\\lib\\site-packages\\sqlalchemy\\engine\\base.py:1799\u001b[0m, in \u001b[0;36mConnection._execute_context\u001b[1;34m(self, dialect, constructor, statement, parameters, execution_options, *args, **kw)\u001b[0m\n\u001b[0;32m   1798\u001b[0m     \u001b[39mif\u001b[39;00m \u001b[39mnot\u001b[39;00m evt_handled:\n\u001b[1;32m-> 1799\u001b[0m         \u001b[39mself\u001b[39;49m\u001b[39m.\u001b[39;49mdialect\u001b[39m.\u001b[39;49mdo_executemany(\n\u001b[0;32m   1800\u001b[0m             cursor, statement, parameters, context\n\u001b[0;32m   1801\u001b[0m         )\n\u001b[0;32m   1802\u001b[0m \u001b[39melif\u001b[39;00m \u001b[39mnot\u001b[39;00m parameters \u001b[39mand\u001b[39;00m context\u001b[39m.\u001b[39mno_parameters:\n",
      "File \u001b[1;32mc:\\Users\\JustAnotherBot\\miniconda3\\envs\\ibmenv\\lib\\site-packages\\sqlalchemy\\engine\\default.py:729\u001b[0m, in \u001b[0;36mDefaultDialect.do_executemany\u001b[1;34m(self, cursor, statement, parameters, context)\u001b[0m\n\u001b[0;32m    728\u001b[0m \u001b[39mdef\u001b[39;00m \u001b[39mdo_executemany\u001b[39m(\u001b[39mself\u001b[39m, cursor, statement, parameters, context\u001b[39m=\u001b[39m\u001b[39mNone\u001b[39;00m):\n\u001b[1;32m--> 729\u001b[0m     cursor\u001b[39m.\u001b[39;49mexecutemany(statement, parameters)\n",
      "File \u001b[1;32mc:\\Users\\JustAnotherBot\\miniconda3\\envs\\ibmenv\\lib\\site-packages\\sqlalchemy\\dialects\\sqlite\\aiosqlite.py:111\u001b[0m, in \u001b[0;36mAsyncAdapt_aiosqlite_cursor.executemany\u001b[1;34m(self, operation, seq_of_parameters)\u001b[0m\n\u001b[0;32m    110\u001b[0m \u001b[39mexcept\u001b[39;00m \u001b[39mException\u001b[39;00m \u001b[39mas\u001b[39;00m error:\n\u001b[1;32m--> 111\u001b[0m     \u001b[39mself\u001b[39;49m\u001b[39m.\u001b[39;49m_adapt_connection\u001b[39m.\u001b[39;49m_handle_exception(error)\n",
      "File \u001b[1;32mc:\\Users\\JustAnotherBot\\miniconda3\\envs\\ibmenv\\lib\\site-packages\\sqlalchemy\\dialects\\sqlite\\aiosqlite.py:228\u001b[0m, in \u001b[0;36mAsyncAdapt_aiosqlite_connection._handle_exception\u001b[1;34m(self, error)\u001b[0m\n\u001b[0;32m    227\u001b[0m \u001b[39melse\u001b[39;00m:\n\u001b[1;32m--> 228\u001b[0m     \u001b[39mraise\u001b[39;00m error\n",
      "File \u001b[1;32mc:\\Users\\JustAnotherBot\\miniconda3\\envs\\ibmenv\\lib\\site-packages\\sqlalchemy\\dialects\\sqlite\\aiosqlite.py:105\u001b[0m, in \u001b[0;36mAsyncAdapt_aiosqlite_cursor.executemany\u001b[1;34m(self, operation, seq_of_parameters)\u001b[0m\n\u001b[0;32m    104\u001b[0m _cursor \u001b[39m=\u001b[39m \u001b[39mself\u001b[39m\u001b[39m.\u001b[39mawait_(\u001b[39mself\u001b[39m\u001b[39m.\u001b[39m_connection\u001b[39m.\u001b[39mcursor())\n\u001b[1;32m--> 105\u001b[0m \u001b[39mself\u001b[39;49m\u001b[39m.\u001b[39;49mawait_(_cursor\u001b[39m.\u001b[39;49mexecutemany(operation, seq_of_parameters))\n\u001b[0;32m    106\u001b[0m \u001b[39mself\u001b[39m\u001b[39m.\u001b[39mdescription \u001b[39m=\u001b[39m \u001b[39mNone\u001b[39;00m\n",
      "File \u001b[1;32mc:\\Users\\JustAnotherBot\\miniconda3\\envs\\ibmenv\\lib\\site-packages\\sqlalchemy\\util\\_concurrency_py3k.py:68\u001b[0m, in \u001b[0;36mawait_only\u001b[1;34m(awaitable)\u001b[0m\n\u001b[0;32m     64\u001b[0m \u001b[39m# returns the control to the driver greenlet passing it\u001b[39;00m\n\u001b[0;32m     65\u001b[0m \u001b[39m# a coroutine to run. Once the awaitable is done, the driver greenlet\u001b[39;00m\n\u001b[0;32m     66\u001b[0m \u001b[39m# switches back to this greenlet with the result of awaitable that is\u001b[39;00m\n\u001b[0;32m     67\u001b[0m \u001b[39m# then returned to the caller (or raised as error)\u001b[39;00m\n\u001b[1;32m---> 68\u001b[0m \u001b[39mreturn\u001b[39;00m current\u001b[39m.\u001b[39;49mdriver\u001b[39m.\u001b[39;49mswitch(awaitable)\n",
      "File \u001b[1;32mc:\\Users\\JustAnotherBot\\miniconda3\\envs\\ibmenv\\lib\\site-packages\\sqlalchemy\\util\\_concurrency_py3k.py:121\u001b[0m, in \u001b[0;36mgreenlet_spawn\u001b[1;34m(fn, _require_await, *args, **kwargs)\u001b[0m\n\u001b[0;32m    118\u001b[0m \u001b[39mtry\u001b[39;00m:\n\u001b[0;32m    119\u001b[0m     \u001b[39m# wait for a coroutine from await_only and then return its\u001b[39;00m\n\u001b[0;32m    120\u001b[0m     \u001b[39m# result back to it.\u001b[39;00m\n\u001b[1;32m--> 121\u001b[0m     value \u001b[39m=\u001b[39m \u001b[39mawait\u001b[39;00m result\n\u001b[0;32m    122\u001b[0m \u001b[39mexcept\u001b[39;00m \u001b[39mBaseException\u001b[39;00m:\n\u001b[0;32m    123\u001b[0m     \u001b[39m# this allows an exception to be raised within\u001b[39;00m\n\u001b[0;32m    124\u001b[0m     \u001b[39m# the moderated greenlet so that it can continue\u001b[39;00m\n\u001b[0;32m    125\u001b[0m     \u001b[39m# its expected flow.\u001b[39;00m\n",
      "File \u001b[1;32mc:\\Users\\JustAnotherBot\\miniconda3\\envs\\ibmenv\\lib\\site-packages\\aiosqlite\\cursor.py:44\u001b[0m, in \u001b[0;36mCursor.executemany\u001b[1;34m(self, sql, parameters)\u001b[0m\n\u001b[0;32m     43\u001b[0m \u001b[39m\"\"\"Execute the given multiquery.\"\"\"\u001b[39;00m\n\u001b[1;32m---> 44\u001b[0m \u001b[39mawait\u001b[39;00m \u001b[39mself\u001b[39m\u001b[39m.\u001b[39m_execute(\u001b[39mself\u001b[39m\u001b[39m.\u001b[39m_cursor\u001b[39m.\u001b[39mexecutemany, sql, parameters)\n\u001b[0;32m     45\u001b[0m \u001b[39mreturn\u001b[39;00m \u001b[39mself\u001b[39m\n",
      "File \u001b[1;32mc:\\Users\\JustAnotherBot\\miniconda3\\envs\\ibmenv\\lib\\site-packages\\aiosqlite\\cursor.py:31\u001b[0m, in \u001b[0;36mCursor._execute\u001b[1;34m(self, fn, *args, **kwargs)\u001b[0m\n\u001b[0;32m     30\u001b[0m \u001b[39m\"\"\"Execute the given function on the shared connection's thread.\"\"\"\u001b[39;00m\n\u001b[1;32m---> 31\u001b[0m \u001b[39mreturn\u001b[39;00m \u001b[39mawait\u001b[39;00m \u001b[39mself\u001b[39m\u001b[39m.\u001b[39m_conn\u001b[39m.\u001b[39m_execute(fn, \u001b[39m*\u001b[39margs, \u001b[39m*\u001b[39m\u001b[39m*\u001b[39mkwargs)\n",
      "File \u001b[1;32mc:\\Users\\JustAnotherBot\\miniconda3\\envs\\ibmenv\\lib\\site-packages\\aiosqlite\\core.py:137\u001b[0m, in \u001b[0;36mConnection._execute\u001b[1;34m(self, fn, *args, **kwargs)\u001b[0m\n\u001b[0;32m    135\u001b[0m \u001b[39mself\u001b[39m\u001b[39m.\u001b[39m_tx\u001b[39m.\u001b[39mput_nowait((future, function))\n\u001b[1;32m--> 137\u001b[0m \u001b[39mreturn\u001b[39;00m \u001b[39mawait\u001b[39;00m future\n",
      "File \u001b[1;32mc:\\Users\\JustAnotherBot\\miniconda3\\envs\\ibmenv\\lib\\asyncio\\futures.py:285\u001b[0m, in \u001b[0;36mFuture.__await__\u001b[1;34m(self)\u001b[0m\n\u001b[0;32m    284\u001b[0m     \u001b[39mself\u001b[39m\u001b[39m.\u001b[39m_asyncio_future_blocking \u001b[39m=\u001b[39m \u001b[39mTrue\u001b[39;00m\n\u001b[1;32m--> 285\u001b[0m     \u001b[39myield\u001b[39;00m \u001b[39mself\u001b[39m  \u001b[39m# This tells Task to wait for completion.\u001b[39;00m\n\u001b[0;32m    286\u001b[0m \u001b[39mif\u001b[39;00m \u001b[39mnot\u001b[39;00m \u001b[39mself\u001b[39m\u001b[39m.\u001b[39mdone():\n",
      "File \u001b[1;32mc:\\Users\\JustAnotherBot\\miniconda3\\envs\\ibmenv\\lib\\asyncio\\tasks.py:304\u001b[0m, in \u001b[0;36mTask.__wakeup\u001b[1;34m(self, future)\u001b[0m\n\u001b[0;32m    303\u001b[0m \u001b[39mtry\u001b[39;00m:\n\u001b[1;32m--> 304\u001b[0m     future\u001b[39m.\u001b[39;49mresult()\n\u001b[0;32m    305\u001b[0m \u001b[39mexcept\u001b[39;00m \u001b[39mBaseException\u001b[39;00m \u001b[39mas\u001b[39;00m exc:\n\u001b[0;32m    306\u001b[0m     \u001b[39m# This may also be a cancellation.\u001b[39;00m\n",
      "File \u001b[1;32mc:\\Users\\JustAnotherBot\\miniconda3\\envs\\ibmenv\\lib\\asyncio\\futures.py:201\u001b[0m, in \u001b[0;36mFuture.result\u001b[1;34m(self)\u001b[0m\n\u001b[0;32m    200\u001b[0m \u001b[39mif\u001b[39;00m \u001b[39mself\u001b[39m\u001b[39m.\u001b[39m_exception \u001b[39mis\u001b[39;00m \u001b[39mnot\u001b[39;00m \u001b[39mNone\u001b[39;00m:\n\u001b[1;32m--> 201\u001b[0m     \u001b[39mraise\u001b[39;00m \u001b[39mself\u001b[39m\u001b[39m.\u001b[39m_exception\u001b[39m.\u001b[39mwith_traceback(\u001b[39mself\u001b[39m\u001b[39m.\u001b[39m_exception_tb)\n\u001b[0;32m    202\u001b[0m \u001b[39mreturn\u001b[39;00m \u001b[39mself\u001b[39m\u001b[39m.\u001b[39m_result\n",
      "File \u001b[1;32mc:\\Users\\JustAnotherBot\\miniconda3\\envs\\ibmenv\\lib\\site-packages\\aiosqlite\\core.py:110\u001b[0m, in \u001b[0;36mConnection.run\u001b[1;34m(self)\u001b[0m\n\u001b[0;32m    109\u001b[0m LOG\u001b[39m.\u001b[39mdebug(\u001b[39m\"\u001b[39m\u001b[39mexecuting \u001b[39m\u001b[39m%s\u001b[39;00m\u001b[39m\"\u001b[39m, function)\n\u001b[1;32m--> 110\u001b[0m result \u001b[39m=\u001b[39m function()\n\u001b[0;32m    111\u001b[0m LOG\u001b[39m.\u001b[39mdebug(\u001b[39m\"\u001b[39m\u001b[39moperation \u001b[39m\u001b[39m%s\u001b[39;00m\u001b[39m completed\u001b[39m\u001b[39m\"\u001b[39m, function)\n",
      "\u001b[1;31mIntegrityError\u001b[0m: UNIQUE constraint failed: jobs.id",
      "\nThe above exception was the direct cause of the following exception:\n",
      "\u001b[1;31mIntegrityError\u001b[0m                            Traceback (most recent call last)",
      "Cell \u001b[1;32mIn[15], line 76\u001b[0m\n\u001b[0;32m     73\u001b[0m     job_dicts \u001b[39m=\u001b[39m [extract_job_info(job[\u001b[39m1\u001b[39m]) \u001b[39mfor\u001b[39;00m job \u001b[39min\u001b[39;00m  jobs\u001b[39m.\u001b[39miterrows()]\n\u001b[0;32m     74\u001b[0m     \u001b[39mreturn\u001b[39;00m \u001b[39mawait\u001b[39;00m db\u001b[39m.\u001b[39mcreate_objs(db\u001b[39m.\u001b[39mmodels\u001b[39m.\u001b[39mJob, job_dicts)\n\u001b[1;32m---> 76\u001b[0m \u001b[39mawait\u001b[39;00m scrape_jobs(data_parsed)\n",
      "Cell \u001b[1;32mIn[15], line 74\u001b[0m, in \u001b[0;36mscrape_jobs\u001b[1;34m(data_parsed)\u001b[0m\n\u001b[0;32m     70\u001b[0m jobs: DataFrame \u001b[39m=\u001b[39m jobs_df\u001b[39m.\u001b[39mloc[:, JOB_LISTING_COLS]\u001b[39m.\u001b[39mset_index(\u001b[39m\"\u001b[39m\u001b[39mid\u001b[39m\u001b[39m\"\u001b[39m)\n\u001b[0;32m     73\u001b[0m job_dicts \u001b[39m=\u001b[39m [extract_job_info(job[\u001b[39m1\u001b[39m]) \u001b[39mfor\u001b[39;00m job \u001b[39min\u001b[39;00m  jobs\u001b[39m.\u001b[39miterrows()]\n\u001b[1;32m---> 74\u001b[0m \u001b[39mreturn\u001b[39;00m \u001b[39mawait\u001b[39;00m db\u001b[39m.\u001b[39mcreate_objs(db\u001b[39m.\u001b[39mmodels\u001b[39m.\u001b[39mJob, job_dicts)\n",
      "File \u001b[1;32mc:\\GitHub\\ViktorGakis\\job_scrapers\\interface\\backend\\db\\utils.py:55\u001b[0m, in \u001b[0;36mcreate_objs\u001b[1;34m(model, attribute_dicts)\u001b[0m\n\u001b[0;32m     52\u001b[0m session\u001b[39m.\u001b[39madd_all(instances)\n\u001b[0;32m     54\u001b[0m \u001b[39m# Flush so that we get the primary keys\u001b[39;00m\n\u001b[1;32m---> 55\u001b[0m \u001b[39mawait\u001b[39;00m session\u001b[39m.\u001b[39mflush()\n\u001b[0;32m     57\u001b[0m \u001b[39m# Commit the changes\u001b[39;00m\n\u001b[0;32m     58\u001b[0m \u001b[39mawait\u001b[39;00m session\u001b[39m.\u001b[39mcommit()\n",
      "File \u001b[1;32mc:\\Users\\JustAnotherBot\\miniconda3\\envs\\ibmenv\\lib\\site-packages\\sqlalchemy\\ext\\asyncio\\session.py:403\u001b[0m, in \u001b[0;36mAsyncSession.flush\u001b[1;34m(self, objects)\u001b[0m\n\u001b[0;32m    395\u001b[0m \u001b[39masync\u001b[39;00m \u001b[39mdef\u001b[39;00m \u001b[39mflush\u001b[39m(\u001b[39mself\u001b[39m, objects\u001b[39m=\u001b[39m\u001b[39mNone\u001b[39;00m):\n\u001b[0;32m    396\u001b[0m     \u001b[39m\"\"\"Flush all the object changes to the database.\u001b[39;00m\n\u001b[0;32m    397\u001b[0m \n\u001b[0;32m    398\u001b[0m \u001b[39m    .. seealso::\u001b[39;00m\n\u001b[1;32m   (...)\u001b[0m\n\u001b[0;32m    401\u001b[0m \n\u001b[0;32m    402\u001b[0m \u001b[39m    \"\"\"\u001b[39;00m\n\u001b[1;32m--> 403\u001b[0m     \u001b[39mawait\u001b[39;00m greenlet_spawn(\u001b[39mself\u001b[39m\u001b[39m.\u001b[39msync_session\u001b[39m.\u001b[39mflush, objects\u001b[39m=\u001b[39mobjects)\n",
      "File \u001b[1;32mc:\\Users\\JustAnotherBot\\miniconda3\\envs\\ibmenv\\lib\\site-packages\\sqlalchemy\\util\\_concurrency_py3k.py:128\u001b[0m, in \u001b[0;36mgreenlet_spawn\u001b[1;34m(fn, _require_await, *args, **kwargs)\u001b[0m\n\u001b[0;32m    126\u001b[0m             result \u001b[39m=\u001b[39m context\u001b[39m.\u001b[39mthrow(\u001b[39m*\u001b[39msys\u001b[39m.\u001b[39mexc_info())\n\u001b[0;32m    127\u001b[0m         \u001b[39melse\u001b[39;00m:\n\u001b[1;32m--> 128\u001b[0m             result \u001b[39m=\u001b[39m context\u001b[39m.\u001b[39;49mswitch(value)\n\u001b[0;32m    129\u001b[0m \u001b[39mfinally\u001b[39;00m:\n\u001b[0;32m    130\u001b[0m     \u001b[39m# clean up to avoid cycle resolution by gc\u001b[39;00m\n\u001b[0;32m    131\u001b[0m     \u001b[39mdel\u001b[39;00m context\u001b[39m.\u001b[39mdriver\n",
      "File \u001b[1;32mc:\\Users\\JustAnotherBot\\miniconda3\\envs\\ibmenv\\lib\\site-packages\\sqlalchemy\\orm\\session.py:3383\u001b[0m, in \u001b[0;36mSession.flush\u001b[1;34m(self, objects)\u001b[0m\n\u001b[0;32m   3381\u001b[0m \u001b[39mtry\u001b[39;00m:\n\u001b[0;32m   3382\u001b[0m     \u001b[39mself\u001b[39m\u001b[39m.\u001b[39m_flushing \u001b[39m=\u001b[39m \u001b[39mTrue\u001b[39;00m\n\u001b[1;32m-> 3383\u001b[0m     \u001b[39mself\u001b[39;49m\u001b[39m.\u001b[39;49m_flush(objects)\n\u001b[0;32m   3384\u001b[0m \u001b[39mfinally\u001b[39;00m:\n\u001b[0;32m   3385\u001b[0m     \u001b[39mself\u001b[39m\u001b[39m.\u001b[39m_flushing \u001b[39m=\u001b[39m \u001b[39mFalse\u001b[39;00m\n",
      "File \u001b[1;32mc:\\Users\\JustAnotherBot\\miniconda3\\envs\\ibmenv\\lib\\site-packages\\sqlalchemy\\orm\\session.py:3522\u001b[0m, in \u001b[0;36mSession._flush\u001b[1;34m(self, objects)\u001b[0m\n\u001b[0;32m   3519\u001b[0m     transaction\u001b[39m.\u001b[39mcommit()\n\u001b[0;32m   3521\u001b[0m \u001b[39mexcept\u001b[39;00m:\n\u001b[1;32m-> 3522\u001b[0m     \u001b[39mwith\u001b[39;00m util\u001b[39m.\u001b[39msafe_reraise():\n\u001b[0;32m   3523\u001b[0m         transaction\u001b[39m.\u001b[39mrollback(_capture_exception\u001b[39m=\u001b[39m\u001b[39mTrue\u001b[39;00m)\n",
      "File \u001b[1;32mc:\\Users\\JustAnotherBot\\miniconda3\\envs\\ibmenv\\lib\\site-packages\\sqlalchemy\\util\\langhelpers.py:70\u001b[0m, in \u001b[0;36msafe_reraise.__exit__\u001b[1;34m(self, type_, value, traceback)\u001b[0m\n\u001b[0;32m     68\u001b[0m     \u001b[39mself\u001b[39m\u001b[39m.\u001b[39m_exc_info \u001b[39m=\u001b[39m \u001b[39mNone\u001b[39;00m  \u001b[39m# remove potential circular references\u001b[39;00m\n\u001b[0;32m     69\u001b[0m     \u001b[39mif\u001b[39;00m \u001b[39mnot\u001b[39;00m \u001b[39mself\u001b[39m\u001b[39m.\u001b[39mwarn_only:\n\u001b[1;32m---> 70\u001b[0m         compat\u001b[39m.\u001b[39;49mraise_(\n\u001b[0;32m     71\u001b[0m             exc_value,\n\u001b[0;32m     72\u001b[0m             with_traceback\u001b[39m=\u001b[39;49mexc_tb,\n\u001b[0;32m     73\u001b[0m         )\n\u001b[0;32m     74\u001b[0m \u001b[39melse\u001b[39;00m:\n\u001b[0;32m     75\u001b[0m     \u001b[39mif\u001b[39;00m \u001b[39mnot\u001b[39;00m compat\u001b[39m.\u001b[39mpy3k \u001b[39mand\u001b[39;00m \u001b[39mself\u001b[39m\u001b[39m.\u001b[39m_exc_info \u001b[39mand\u001b[39;00m \u001b[39mself\u001b[39m\u001b[39m.\u001b[39m_exc_info[\u001b[39m1\u001b[39m]:\n\u001b[0;32m     76\u001b[0m         \u001b[39m# emulate Py3K's behavior of telling us when an exception\u001b[39;00m\n\u001b[0;32m     77\u001b[0m         \u001b[39m# occurs in an exception handler.\u001b[39;00m\n",
      "File \u001b[1;32mc:\\Users\\JustAnotherBot\\miniconda3\\envs\\ibmenv\\lib\\site-packages\\sqlalchemy\\util\\compat.py:208\u001b[0m, in \u001b[0;36mraise_\u001b[1;34m(***failed resolving arguments***)\u001b[0m\n\u001b[0;32m    205\u001b[0m     exception\u001b[39m.\u001b[39m__cause__ \u001b[39m=\u001b[39m replace_context\n\u001b[0;32m    207\u001b[0m \u001b[39mtry\u001b[39;00m:\n\u001b[1;32m--> 208\u001b[0m     \u001b[39mraise\u001b[39;00m exception\n\u001b[0;32m    209\u001b[0m \u001b[39mfinally\u001b[39;00m:\n\u001b[0;32m    210\u001b[0m     \u001b[39m# credit to\u001b[39;00m\n\u001b[0;32m    211\u001b[0m     \u001b[39m# https://cosmicpercolator.com/2016/01/13/exception-leaks-in-python-2-and-3/\u001b[39;00m\n\u001b[0;32m    212\u001b[0m     \u001b[39m# as the __traceback__ object creates a cycle\u001b[39;00m\n\u001b[0;32m    213\u001b[0m     \u001b[39mdel\u001b[39;00m exception, replace_context, from_, with_traceback\n",
      "File \u001b[1;32mc:\\Users\\JustAnotherBot\\miniconda3\\envs\\ibmenv\\lib\\site-packages\\sqlalchemy\\orm\\session.py:3483\u001b[0m, in \u001b[0;36mSession._flush\u001b[1;34m(self, objects)\u001b[0m\n\u001b[0;32m   3481\u001b[0m \u001b[39mself\u001b[39m\u001b[39m.\u001b[39m_warn_on_events \u001b[39m=\u001b[39m \u001b[39mTrue\u001b[39;00m\n\u001b[0;32m   3482\u001b[0m \u001b[39mtry\u001b[39;00m:\n\u001b[1;32m-> 3483\u001b[0m     flush_context\u001b[39m.\u001b[39;49mexecute()\n\u001b[0;32m   3484\u001b[0m \u001b[39mfinally\u001b[39;00m:\n\u001b[0;32m   3485\u001b[0m     \u001b[39mself\u001b[39m\u001b[39m.\u001b[39m_warn_on_events \u001b[39m=\u001b[39m \u001b[39mFalse\u001b[39;00m\n",
      "File \u001b[1;32mc:\\Users\\JustAnotherBot\\miniconda3\\envs\\ibmenv\\lib\\site-packages\\sqlalchemy\\orm\\unitofwork.py:456\u001b[0m, in \u001b[0;36mUOWTransaction.execute\u001b[1;34m(self)\u001b[0m\n\u001b[0;32m    454\u001b[0m \u001b[39melse\u001b[39;00m:\n\u001b[0;32m    455\u001b[0m     \u001b[39mfor\u001b[39;00m rec \u001b[39min\u001b[39;00m topological\u001b[39m.\u001b[39msort(\u001b[39mself\u001b[39m\u001b[39m.\u001b[39mdependencies, postsort_actions):\n\u001b[1;32m--> 456\u001b[0m         rec\u001b[39m.\u001b[39;49mexecute(\u001b[39mself\u001b[39;49m)\n",
      "File \u001b[1;32mc:\\Users\\JustAnotherBot\\miniconda3\\envs\\ibmenv\\lib\\site-packages\\sqlalchemy\\orm\\unitofwork.py:630\u001b[0m, in \u001b[0;36mSaveUpdateAll.execute\u001b[1;34m(self, uow)\u001b[0m\n\u001b[0;32m    628\u001b[0m \u001b[39m@util\u001b[39m\u001b[39m.\u001b[39mpreload_module(\u001b[39m\"\u001b[39m\u001b[39msqlalchemy.orm.persistence\u001b[39m\u001b[39m\"\u001b[39m)\n\u001b[0;32m    629\u001b[0m \u001b[39mdef\u001b[39;00m \u001b[39mexecute\u001b[39m(\u001b[39mself\u001b[39m, uow):\n\u001b[1;32m--> 630\u001b[0m     util\u001b[39m.\u001b[39;49mpreloaded\u001b[39m.\u001b[39;49morm_persistence\u001b[39m.\u001b[39;49msave_obj(\n\u001b[0;32m    631\u001b[0m         \u001b[39mself\u001b[39;49m\u001b[39m.\u001b[39;49mmapper,\n\u001b[0;32m    632\u001b[0m         uow\u001b[39m.\u001b[39;49mstates_for_mapper_hierarchy(\u001b[39mself\u001b[39;49m\u001b[39m.\u001b[39;49mmapper, \u001b[39mFalse\u001b[39;49;00m, \u001b[39mFalse\u001b[39;49;00m),\n\u001b[0;32m    633\u001b[0m         uow,\n\u001b[0;32m    634\u001b[0m     )\n",
      "File \u001b[1;32mc:\\Users\\JustAnotherBot\\miniconda3\\envs\\ibmenv\\lib\\site-packages\\sqlalchemy\\orm\\persistence.py:245\u001b[0m, in \u001b[0;36msave_obj\u001b[1;34m(base_mapper, states, uowtransaction, single)\u001b[0m\n\u001b[0;32m    233\u001b[0m     update \u001b[39m=\u001b[39m _collect_update_commands(\n\u001b[0;32m    234\u001b[0m         uowtransaction, table, states_to_update\n\u001b[0;32m    235\u001b[0m     )\n\u001b[0;32m    237\u001b[0m     _emit_update_statements(\n\u001b[0;32m    238\u001b[0m         base_mapper,\n\u001b[0;32m    239\u001b[0m         uowtransaction,\n\u001b[1;32m   (...)\u001b[0m\n\u001b[0;32m    242\u001b[0m         update,\n\u001b[0;32m    243\u001b[0m     )\n\u001b[1;32m--> 245\u001b[0m     _emit_insert_statements(\n\u001b[0;32m    246\u001b[0m         base_mapper,\n\u001b[0;32m    247\u001b[0m         uowtransaction,\n\u001b[0;32m    248\u001b[0m         mapper,\n\u001b[0;32m    249\u001b[0m         table,\n\u001b[0;32m    250\u001b[0m         insert,\n\u001b[0;32m    251\u001b[0m     )\n\u001b[0;32m    253\u001b[0m _finalize_insert_update_commands(\n\u001b[0;32m    254\u001b[0m     base_mapper,\n\u001b[0;32m    255\u001b[0m     uowtransaction,\n\u001b[1;32m   (...)\u001b[0m\n\u001b[0;32m    271\u001b[0m     ),\n\u001b[0;32m    272\u001b[0m )\n",
      "File \u001b[1;32mc:\\Users\\JustAnotherBot\\miniconda3\\envs\\ibmenv\\lib\\site-packages\\sqlalchemy\\orm\\persistence.py:1097\u001b[0m, in \u001b[0;36m_emit_insert_statements\u001b[1;34m(base_mapper, uowtransaction, mapper, table, insert, bookkeeping)\u001b[0m\n\u001b[0;32m   1094\u001b[0m records \u001b[39m=\u001b[39m \u001b[39mlist\u001b[39m(records)\n\u001b[0;32m   1095\u001b[0m multiparams \u001b[39m=\u001b[39m [rec[\u001b[39m2\u001b[39m] \u001b[39mfor\u001b[39;00m rec \u001b[39min\u001b[39;00m records]\n\u001b[1;32m-> 1097\u001b[0m c \u001b[39m=\u001b[39m connection\u001b[39m.\u001b[39;49m_execute_20(\n\u001b[0;32m   1098\u001b[0m     statement, multiparams, execution_options\u001b[39m=\u001b[39;49mexecution_options\n\u001b[0;32m   1099\u001b[0m )\n\u001b[0;32m   1101\u001b[0m \u001b[39mif\u001b[39;00m bookkeeping:\n\u001b[0;32m   1102\u001b[0m     \u001b[39mfor\u001b[39;00m (\n\u001b[0;32m   1103\u001b[0m         (\n\u001b[0;32m   1104\u001b[0m             state,\n\u001b[1;32m   (...)\u001b[0m\n\u001b[0;32m   1113\u001b[0m         last_inserted_params,\n\u001b[0;32m   1114\u001b[0m     ) \u001b[39min\u001b[39;00m \u001b[39mzip\u001b[39m(records, c\u001b[39m.\u001b[39mcontext\u001b[39m.\u001b[39mcompiled_parameters):\n",
      "File \u001b[1;32mc:\\Users\\JustAnotherBot\\miniconda3\\envs\\ibmenv\\lib\\site-packages\\sqlalchemy\\engine\\base.py:1631\u001b[0m, in \u001b[0;36mConnection._execute_20\u001b[1;34m(self, statement, parameters, execution_options)\u001b[0m\n\u001b[0;32m   1627\u001b[0m     util\u001b[39m.\u001b[39mraise_(\n\u001b[0;32m   1628\u001b[0m         exc\u001b[39m.\u001b[39mObjectNotExecutableError(statement), replace_context\u001b[39m=\u001b[39merr\n\u001b[0;32m   1629\u001b[0m     )\n\u001b[0;32m   1630\u001b[0m \u001b[39melse\u001b[39;00m:\n\u001b[1;32m-> 1631\u001b[0m     \u001b[39mreturn\u001b[39;00m meth(\u001b[39mself\u001b[39;49m, args_10style, kwargs_10style, execution_options)\n",
      "File \u001b[1;32mc:\\Users\\JustAnotherBot\\miniconda3\\envs\\ibmenv\\lib\\site-packages\\sqlalchemy\\sql\\elements.py:332\u001b[0m, in \u001b[0;36mClauseElement._execute_on_connection\u001b[1;34m(self, connection, multiparams, params, execution_options, _force)\u001b[0m\n\u001b[0;32m    328\u001b[0m \u001b[39mdef\u001b[39;00m \u001b[39m_execute_on_connection\u001b[39m(\n\u001b[0;32m    329\u001b[0m     \u001b[39mself\u001b[39m, connection, multiparams, params, execution_options, _force\u001b[39m=\u001b[39m\u001b[39mFalse\u001b[39;00m\n\u001b[0;32m    330\u001b[0m ):\n\u001b[0;32m    331\u001b[0m     \u001b[39mif\u001b[39;00m _force \u001b[39mor\u001b[39;00m \u001b[39mself\u001b[39m\u001b[39m.\u001b[39msupports_execution:\n\u001b[1;32m--> 332\u001b[0m         \u001b[39mreturn\u001b[39;00m connection\u001b[39m.\u001b[39;49m_execute_clauseelement(\n\u001b[0;32m    333\u001b[0m             \u001b[39mself\u001b[39;49m, multiparams, params, execution_options\n\u001b[0;32m    334\u001b[0m         )\n\u001b[0;32m    335\u001b[0m     \u001b[39melse\u001b[39;00m:\n\u001b[0;32m    336\u001b[0m         \u001b[39mraise\u001b[39;00m exc\u001b[39m.\u001b[39mObjectNotExecutableError(\u001b[39mself\u001b[39m)\n",
      "File \u001b[1;32mc:\\Users\\JustAnotherBot\\miniconda3\\envs\\ibmenv\\lib\\site-packages\\sqlalchemy\\engine\\base.py:1498\u001b[0m, in \u001b[0;36mConnection._execute_clauseelement\u001b[1;34m(self, elem, multiparams, params, execution_options)\u001b[0m\n\u001b[0;32m   1486\u001b[0m compiled_cache \u001b[39m=\u001b[39m execution_options\u001b[39m.\u001b[39mget(\n\u001b[0;32m   1487\u001b[0m     \u001b[39m\"\u001b[39m\u001b[39mcompiled_cache\u001b[39m\u001b[39m\"\u001b[39m, \u001b[39mself\u001b[39m\u001b[39m.\u001b[39mengine\u001b[39m.\u001b[39m_compiled_cache\n\u001b[0;32m   1488\u001b[0m )\n\u001b[0;32m   1490\u001b[0m compiled_sql, extracted_params, cache_hit \u001b[39m=\u001b[39m elem\u001b[39m.\u001b[39m_compile_w_cache(\n\u001b[0;32m   1491\u001b[0m     dialect\u001b[39m=\u001b[39mdialect,\n\u001b[0;32m   1492\u001b[0m     compiled_cache\u001b[39m=\u001b[39mcompiled_cache,\n\u001b[1;32m   (...)\u001b[0m\n\u001b[0;32m   1496\u001b[0m     linting\u001b[39m=\u001b[39m\u001b[39mself\u001b[39m\u001b[39m.\u001b[39mdialect\u001b[39m.\u001b[39mcompiler_linting \u001b[39m|\u001b[39m compiler\u001b[39m.\u001b[39mWARN_LINTING,\n\u001b[0;32m   1497\u001b[0m )\n\u001b[1;32m-> 1498\u001b[0m ret \u001b[39m=\u001b[39m \u001b[39mself\u001b[39;49m\u001b[39m.\u001b[39;49m_execute_context(\n\u001b[0;32m   1499\u001b[0m     dialect,\n\u001b[0;32m   1500\u001b[0m     dialect\u001b[39m.\u001b[39;49mexecution_ctx_cls\u001b[39m.\u001b[39;49m_init_compiled,\n\u001b[0;32m   1501\u001b[0m     compiled_sql,\n\u001b[0;32m   1502\u001b[0m     distilled_params,\n\u001b[0;32m   1503\u001b[0m     execution_options,\n\u001b[0;32m   1504\u001b[0m     compiled_sql,\n\u001b[0;32m   1505\u001b[0m     distilled_params,\n\u001b[0;32m   1506\u001b[0m     elem,\n\u001b[0;32m   1507\u001b[0m     extracted_params,\n\u001b[0;32m   1508\u001b[0m     cache_hit\u001b[39m=\u001b[39;49mcache_hit,\n\u001b[0;32m   1509\u001b[0m )\n\u001b[0;32m   1510\u001b[0m \u001b[39mif\u001b[39;00m has_events:\n\u001b[0;32m   1511\u001b[0m     \u001b[39mself\u001b[39m\u001b[39m.\u001b[39mdispatch\u001b[39m.\u001b[39mafter_execute(\n\u001b[0;32m   1512\u001b[0m         \u001b[39mself\u001b[39m,\n\u001b[0;32m   1513\u001b[0m         elem,\n\u001b[1;32m   (...)\u001b[0m\n\u001b[0;32m   1517\u001b[0m         ret,\n\u001b[0;32m   1518\u001b[0m     )\n",
      "File \u001b[1;32mc:\\Users\\JustAnotherBot\\miniconda3\\envs\\ibmenv\\lib\\site-packages\\sqlalchemy\\engine\\base.py:1862\u001b[0m, in \u001b[0;36mConnection._execute_context\u001b[1;34m(self, dialect, constructor, statement, parameters, execution_options, *args, **kw)\u001b[0m\n\u001b[0;32m   1859\u001b[0m             branched\u001b[39m.\u001b[39mclose()\n\u001b[0;32m   1861\u001b[0m \u001b[39mexcept\u001b[39;00m \u001b[39mBaseException\u001b[39;00m \u001b[39mas\u001b[39;00m e:\n\u001b[1;32m-> 1862\u001b[0m     \u001b[39mself\u001b[39;49m\u001b[39m.\u001b[39;49m_handle_dbapi_exception(\n\u001b[0;32m   1863\u001b[0m         e, statement, parameters, cursor, context\n\u001b[0;32m   1864\u001b[0m     )\n\u001b[0;32m   1866\u001b[0m \u001b[39mreturn\u001b[39;00m result\n",
      "File \u001b[1;32mc:\\Users\\JustAnotherBot\\miniconda3\\envs\\ibmenv\\lib\\site-packages\\sqlalchemy\\engine\\base.py:2043\u001b[0m, in \u001b[0;36mConnection._handle_dbapi_exception\u001b[1;34m(self, e, statement, parameters, cursor, context)\u001b[0m\n\u001b[0;32m   2041\u001b[0m     util\u001b[39m.\u001b[39mraise_(newraise, with_traceback\u001b[39m=\u001b[39mexc_info[\u001b[39m2\u001b[39m], from_\u001b[39m=\u001b[39me)\n\u001b[0;32m   2042\u001b[0m \u001b[39melif\u001b[39;00m should_wrap:\n\u001b[1;32m-> 2043\u001b[0m     util\u001b[39m.\u001b[39;49mraise_(\n\u001b[0;32m   2044\u001b[0m         sqlalchemy_exception, with_traceback\u001b[39m=\u001b[39;49mexc_info[\u001b[39m2\u001b[39;49m], from_\u001b[39m=\u001b[39;49me\n\u001b[0;32m   2045\u001b[0m     )\n\u001b[0;32m   2046\u001b[0m \u001b[39melse\u001b[39;00m:\n\u001b[0;32m   2047\u001b[0m     util\u001b[39m.\u001b[39mraise_(exc_info[\u001b[39m1\u001b[39m], with_traceback\u001b[39m=\u001b[39mexc_info[\u001b[39m2\u001b[39m])\n",
      "File \u001b[1;32mc:\\Users\\JustAnotherBot\\miniconda3\\envs\\ibmenv\\lib\\site-packages\\sqlalchemy\\util\\compat.py:208\u001b[0m, in \u001b[0;36mraise_\u001b[1;34m(***failed resolving arguments***)\u001b[0m\n\u001b[0;32m    205\u001b[0m     exception\u001b[39m.\u001b[39m__cause__ \u001b[39m=\u001b[39m replace_context\n\u001b[0;32m    207\u001b[0m \u001b[39mtry\u001b[39;00m:\n\u001b[1;32m--> 208\u001b[0m     \u001b[39mraise\u001b[39;00m exception\n\u001b[0;32m    209\u001b[0m \u001b[39mfinally\u001b[39;00m:\n\u001b[0;32m    210\u001b[0m     \u001b[39m# credit to\u001b[39;00m\n\u001b[0;32m    211\u001b[0m     \u001b[39m# https://cosmicpercolator.com/2016/01/13/exception-leaks-in-python-2-and-3/\u001b[39;00m\n\u001b[0;32m    212\u001b[0m     \u001b[39m# as the __traceback__ object creates a cycle\u001b[39;00m\n\u001b[0;32m    213\u001b[0m     \u001b[39mdel\u001b[39;00m exception, replace_context, from_, with_traceback\n",
      "File \u001b[1;32mc:\\Users\\JustAnotherBot\\miniconda3\\envs\\ibmenv\\lib\\site-packages\\sqlalchemy\\engine\\base.py:1799\u001b[0m, in \u001b[0;36mConnection._execute_context\u001b[1;34m(self, dialect, constructor, statement, parameters, execution_options, *args, **kw)\u001b[0m\n\u001b[0;32m   1797\u001b[0m                 \u001b[39mbreak\u001b[39;00m\n\u001b[0;32m   1798\u001b[0m     \u001b[39mif\u001b[39;00m \u001b[39mnot\u001b[39;00m evt_handled:\n\u001b[1;32m-> 1799\u001b[0m         \u001b[39mself\u001b[39;49m\u001b[39m.\u001b[39;49mdialect\u001b[39m.\u001b[39;49mdo_executemany(\n\u001b[0;32m   1800\u001b[0m             cursor, statement, parameters, context\n\u001b[0;32m   1801\u001b[0m         )\n\u001b[0;32m   1802\u001b[0m \u001b[39melif\u001b[39;00m \u001b[39mnot\u001b[39;00m parameters \u001b[39mand\u001b[39;00m context\u001b[39m.\u001b[39mno_parameters:\n\u001b[0;32m   1803\u001b[0m     \u001b[39mif\u001b[39;00m \u001b[39mself\u001b[39m\u001b[39m.\u001b[39mdialect\u001b[39m.\u001b[39m_has_events:\n",
      "File \u001b[1;32mc:\\Users\\JustAnotherBot\\miniconda3\\envs\\ibmenv\\lib\\site-packages\\sqlalchemy\\engine\\default.py:729\u001b[0m, in \u001b[0;36mDefaultDialect.do_executemany\u001b[1;34m(self, cursor, statement, parameters, context)\u001b[0m\n\u001b[0;32m    728\u001b[0m \u001b[39mdef\u001b[39;00m \u001b[39mdo_executemany\u001b[39m(\u001b[39mself\u001b[39m, cursor, statement, parameters, context\u001b[39m=\u001b[39m\u001b[39mNone\u001b[39;00m):\n\u001b[1;32m--> 729\u001b[0m     cursor\u001b[39m.\u001b[39;49mexecutemany(statement, parameters)\n",
      "File \u001b[1;32mc:\\Users\\JustAnotherBot\\miniconda3\\envs\\ibmenv\\lib\\site-packages\\sqlalchemy\\dialects\\sqlite\\aiosqlite.py:111\u001b[0m, in \u001b[0;36mAsyncAdapt_aiosqlite_cursor.executemany\u001b[1;34m(self, operation, seq_of_parameters)\u001b[0m\n\u001b[0;32m    109\u001b[0m     \u001b[39mself\u001b[39m\u001b[39m.\u001b[39mawait_(_cursor\u001b[39m.\u001b[39mclose())\n\u001b[0;32m    110\u001b[0m \u001b[39mexcept\u001b[39;00m \u001b[39mException\u001b[39;00m \u001b[39mas\u001b[39;00m error:\n\u001b[1;32m--> 111\u001b[0m     \u001b[39mself\u001b[39;49m\u001b[39m.\u001b[39;49m_adapt_connection\u001b[39m.\u001b[39;49m_handle_exception(error)\n",
      "File \u001b[1;32mc:\\Users\\JustAnotherBot\\miniconda3\\envs\\ibmenv\\lib\\site-packages\\sqlalchemy\\dialects\\sqlite\\aiosqlite.py:228\u001b[0m, in \u001b[0;36mAsyncAdapt_aiosqlite_connection._handle_exception\u001b[1;34m(self, error)\u001b[0m\n\u001b[0;32m    223\u001b[0m     util\u001b[39m.\u001b[39mraise_(\n\u001b[0;32m    224\u001b[0m         \u001b[39mself\u001b[39m\u001b[39m.\u001b[39mdbapi\u001b[39m.\u001b[39msqlite\u001b[39m.\u001b[39mOperationalError(\u001b[39m\"\u001b[39m\u001b[39mno active connection\u001b[39m\u001b[39m\"\u001b[39m),\n\u001b[0;32m    225\u001b[0m         from_\u001b[39m=\u001b[39merror,\n\u001b[0;32m    226\u001b[0m     )\n\u001b[0;32m    227\u001b[0m \u001b[39melse\u001b[39;00m:\n\u001b[1;32m--> 228\u001b[0m     \u001b[39mraise\u001b[39;00m error\n",
      "File \u001b[1;32mc:\\Users\\JustAnotherBot\\miniconda3\\envs\\ibmenv\\lib\\site-packages\\sqlalchemy\\dialects\\sqlite\\aiosqlite.py:105\u001b[0m, in \u001b[0;36mAsyncAdapt_aiosqlite_cursor.executemany\u001b[1;34m(self, operation, seq_of_parameters)\u001b[0m\n\u001b[0;32m    103\u001b[0m \u001b[39mtry\u001b[39;00m:\n\u001b[0;32m    104\u001b[0m     _cursor \u001b[39m=\u001b[39m \u001b[39mself\u001b[39m\u001b[39m.\u001b[39mawait_(\u001b[39mself\u001b[39m\u001b[39m.\u001b[39m_connection\u001b[39m.\u001b[39mcursor())\n\u001b[1;32m--> 105\u001b[0m     \u001b[39mself\u001b[39;49m\u001b[39m.\u001b[39;49mawait_(_cursor\u001b[39m.\u001b[39;49mexecutemany(operation, seq_of_parameters))\n\u001b[0;32m    106\u001b[0m     \u001b[39mself\u001b[39m\u001b[39m.\u001b[39mdescription \u001b[39m=\u001b[39m \u001b[39mNone\u001b[39;00m\n\u001b[0;32m    107\u001b[0m     \u001b[39mself\u001b[39m\u001b[39m.\u001b[39mlastrowid \u001b[39m=\u001b[39m _cursor\u001b[39m.\u001b[39mlastrowid\n",
      "File \u001b[1;32mc:\\Users\\JustAnotherBot\\miniconda3\\envs\\ibmenv\\lib\\site-packages\\sqlalchemy\\util\\_concurrency_py3k.py:68\u001b[0m, in \u001b[0;36mawait_only\u001b[1;34m(awaitable)\u001b[0m\n\u001b[0;32m     59\u001b[0m     \u001b[39mraise\u001b[39;00m exc\u001b[39m.\u001b[39mMissingGreenlet(\n\u001b[0;32m     60\u001b[0m         \u001b[39m\"\u001b[39m\u001b[39mgreenlet_spawn has not been called; can\u001b[39m\u001b[39m'\u001b[39m\u001b[39mt call await_only() \u001b[39m\u001b[39m\"\u001b[39m\n\u001b[0;32m     61\u001b[0m         \u001b[39m\"\u001b[39m\u001b[39mhere. Was IO attempted in an unexpected place?\u001b[39m\u001b[39m\"\u001b[39m\n\u001b[0;32m     62\u001b[0m     )\n\u001b[0;32m     64\u001b[0m \u001b[39m# returns the control to the driver greenlet passing it\u001b[39;00m\n\u001b[0;32m     65\u001b[0m \u001b[39m# a coroutine to run. Once the awaitable is done, the driver greenlet\u001b[39;00m\n\u001b[0;32m     66\u001b[0m \u001b[39m# switches back to this greenlet with the result of awaitable that is\u001b[39;00m\n\u001b[0;32m     67\u001b[0m \u001b[39m# then returned to the caller (or raised as error)\u001b[39;00m\n\u001b[1;32m---> 68\u001b[0m \u001b[39mreturn\u001b[39;00m current\u001b[39m.\u001b[39;49mdriver\u001b[39m.\u001b[39;49mswitch(awaitable)\n",
      "File \u001b[1;32mc:\\Users\\JustAnotherBot\\miniconda3\\envs\\ibmenv\\lib\\site-packages\\sqlalchemy\\util\\_concurrency_py3k.py:121\u001b[0m, in \u001b[0;36mgreenlet_spawn\u001b[1;34m(fn, _require_await, *args, **kwargs)\u001b[0m\n\u001b[0;32m    117\u001b[0m switch_occurred \u001b[39m=\u001b[39m \u001b[39mTrue\u001b[39;00m\n\u001b[0;32m    118\u001b[0m \u001b[39mtry\u001b[39;00m:\n\u001b[0;32m    119\u001b[0m     \u001b[39m# wait for a coroutine from await_only and then return its\u001b[39;00m\n\u001b[0;32m    120\u001b[0m     \u001b[39m# result back to it.\u001b[39;00m\n\u001b[1;32m--> 121\u001b[0m     value \u001b[39m=\u001b[39m \u001b[39mawait\u001b[39;00m result\n\u001b[0;32m    122\u001b[0m \u001b[39mexcept\u001b[39;00m \u001b[39mBaseException\u001b[39;00m:\n\u001b[0;32m    123\u001b[0m     \u001b[39m# this allows an exception to be raised within\u001b[39;00m\n\u001b[0;32m    124\u001b[0m     \u001b[39m# the moderated greenlet so that it can continue\u001b[39;00m\n\u001b[0;32m    125\u001b[0m     \u001b[39m# its expected flow.\u001b[39;00m\n\u001b[0;32m    126\u001b[0m     result \u001b[39m=\u001b[39m context\u001b[39m.\u001b[39mthrow(\u001b[39m*\u001b[39msys\u001b[39m.\u001b[39mexc_info())\n",
      "File \u001b[1;32mc:\\Users\\JustAnotherBot\\miniconda3\\envs\\ibmenv\\lib\\site-packages\\aiosqlite\\cursor.py:44\u001b[0m, in \u001b[0;36mCursor.executemany\u001b[1;34m(self, sql, parameters)\u001b[0m\n\u001b[0;32m     40\u001b[0m \u001b[39masync\u001b[39;00m \u001b[39mdef\u001b[39;00m \u001b[39mexecutemany\u001b[39m(\n\u001b[0;32m     41\u001b[0m     \u001b[39mself\u001b[39m, sql: \u001b[39mstr\u001b[39m, parameters: Iterable[Iterable[Any]]\n\u001b[0;32m     42\u001b[0m ) \u001b[39m-\u001b[39m\u001b[39m>\u001b[39m \u001b[39m\"\u001b[39m\u001b[39mCursor\u001b[39m\u001b[39m\"\u001b[39m:\n\u001b[0;32m     43\u001b[0m     \u001b[39m\"\"\"Execute the given multiquery.\"\"\"\u001b[39;00m\n\u001b[1;32m---> 44\u001b[0m     \u001b[39mawait\u001b[39;00m \u001b[39mself\u001b[39m\u001b[39m.\u001b[39m_execute(\u001b[39mself\u001b[39m\u001b[39m.\u001b[39m_cursor\u001b[39m.\u001b[39mexecutemany, sql, parameters)\n\u001b[0;32m     45\u001b[0m     \u001b[39mreturn\u001b[39;00m \u001b[39mself\u001b[39m\n",
      "File \u001b[1;32mc:\\Users\\JustAnotherBot\\miniconda3\\envs\\ibmenv\\lib\\site-packages\\aiosqlite\\cursor.py:31\u001b[0m, in \u001b[0;36mCursor._execute\u001b[1;34m(self, fn, *args, **kwargs)\u001b[0m\n\u001b[0;32m     29\u001b[0m \u001b[39masync\u001b[39;00m \u001b[39mdef\u001b[39;00m \u001b[39m_execute\u001b[39m(\u001b[39mself\u001b[39m, fn, \u001b[39m*\u001b[39margs, \u001b[39m*\u001b[39m\u001b[39m*\u001b[39mkwargs):\n\u001b[0;32m     30\u001b[0m     \u001b[39m\"\"\"Execute the given function on the shared connection's thread.\"\"\"\u001b[39;00m\n\u001b[1;32m---> 31\u001b[0m     \u001b[39mreturn\u001b[39;00m \u001b[39mawait\u001b[39;00m \u001b[39mself\u001b[39m\u001b[39m.\u001b[39m_conn\u001b[39m.\u001b[39m_execute(fn, \u001b[39m*\u001b[39margs, \u001b[39m*\u001b[39m\u001b[39m*\u001b[39mkwargs)\n",
      "File \u001b[1;32mc:\\Users\\JustAnotherBot\\miniconda3\\envs\\ibmenv\\lib\\site-packages\\aiosqlite\\core.py:137\u001b[0m, in \u001b[0;36mConnection._execute\u001b[1;34m(self, fn, *args, **kwargs)\u001b[0m\n\u001b[0;32m    133\u001b[0m future \u001b[39m=\u001b[39m asyncio\u001b[39m.\u001b[39mget_event_loop()\u001b[39m.\u001b[39mcreate_future()\n\u001b[0;32m    135\u001b[0m \u001b[39mself\u001b[39m\u001b[39m.\u001b[39m_tx\u001b[39m.\u001b[39mput_nowait((future, function))\n\u001b[1;32m--> 137\u001b[0m \u001b[39mreturn\u001b[39;00m \u001b[39mawait\u001b[39;00m future\n",
      "File \u001b[1;32mc:\\Users\\JustAnotherBot\\miniconda3\\envs\\ibmenv\\lib\\asyncio\\futures.py:285\u001b[0m, in \u001b[0;36mFuture.__await__\u001b[1;34m(self)\u001b[0m\n\u001b[0;32m    283\u001b[0m \u001b[39mif\u001b[39;00m \u001b[39mnot\u001b[39;00m \u001b[39mself\u001b[39m\u001b[39m.\u001b[39mdone():\n\u001b[0;32m    284\u001b[0m     \u001b[39mself\u001b[39m\u001b[39m.\u001b[39m_asyncio_future_blocking \u001b[39m=\u001b[39m \u001b[39mTrue\u001b[39;00m\n\u001b[1;32m--> 285\u001b[0m     \u001b[39myield\u001b[39;00m \u001b[39mself\u001b[39m  \u001b[39m# This tells Task to wait for completion.\u001b[39;00m\n\u001b[0;32m    286\u001b[0m \u001b[39mif\u001b[39;00m \u001b[39mnot\u001b[39;00m \u001b[39mself\u001b[39m\u001b[39m.\u001b[39mdone():\n\u001b[0;32m    287\u001b[0m     \u001b[39mraise\u001b[39;00m \u001b[39mRuntimeError\u001b[39;00m(\u001b[39m\"\u001b[39m\u001b[39mawait wasn\u001b[39m\u001b[39m'\u001b[39m\u001b[39mt used with future\u001b[39m\u001b[39m\"\u001b[39m)\n",
      "File \u001b[1;32mc:\\Users\\JustAnotherBot\\miniconda3\\envs\\ibmenv\\lib\\asyncio\\tasks.py:304\u001b[0m, in \u001b[0;36mTask.__wakeup\u001b[1;34m(self, future)\u001b[0m\n\u001b[0;32m    302\u001b[0m \u001b[39mdef\u001b[39;00m \u001b[39m__wakeup\u001b[39m(\u001b[39mself\u001b[39m, future):\n\u001b[0;32m    303\u001b[0m     \u001b[39mtry\u001b[39;00m:\n\u001b[1;32m--> 304\u001b[0m         future\u001b[39m.\u001b[39;49mresult()\n\u001b[0;32m    305\u001b[0m     \u001b[39mexcept\u001b[39;00m \u001b[39mBaseException\u001b[39;00m \u001b[39mas\u001b[39;00m exc:\n\u001b[0;32m    306\u001b[0m         \u001b[39m# This may also be a cancellation.\u001b[39;00m\n\u001b[0;32m    307\u001b[0m         \u001b[39mself\u001b[39m\u001b[39m.\u001b[39m__step(exc)\n",
      "File \u001b[1;32mc:\\Users\\JustAnotherBot\\miniconda3\\envs\\ibmenv\\lib\\asyncio\\futures.py:201\u001b[0m, in \u001b[0;36mFuture.result\u001b[1;34m(self)\u001b[0m\n\u001b[0;32m    199\u001b[0m \u001b[39mself\u001b[39m\u001b[39m.\u001b[39m__log_traceback \u001b[39m=\u001b[39m \u001b[39mFalse\u001b[39;00m\n\u001b[0;32m    200\u001b[0m \u001b[39mif\u001b[39;00m \u001b[39mself\u001b[39m\u001b[39m.\u001b[39m_exception \u001b[39mis\u001b[39;00m \u001b[39mnot\u001b[39;00m \u001b[39mNone\u001b[39;00m:\n\u001b[1;32m--> 201\u001b[0m     \u001b[39mraise\u001b[39;00m \u001b[39mself\u001b[39m\u001b[39m.\u001b[39m_exception\u001b[39m.\u001b[39mwith_traceback(\u001b[39mself\u001b[39m\u001b[39m.\u001b[39m_exception_tb)\n\u001b[0;32m    202\u001b[0m \u001b[39mreturn\u001b[39;00m \u001b[39mself\u001b[39m\u001b[39m.\u001b[39m_result\n",
      "File \u001b[1;32mc:\\Users\\JustAnotherBot\\miniconda3\\envs\\ibmenv\\lib\\site-packages\\aiosqlite\\core.py:110\u001b[0m, in \u001b[0;36mConnection.run\u001b[1;34m(self)\u001b[0m\n\u001b[0;32m    108\u001b[0m \u001b[39mtry\u001b[39;00m:\n\u001b[0;32m    109\u001b[0m     LOG\u001b[39m.\u001b[39mdebug(\u001b[39m\"\u001b[39m\u001b[39mexecuting \u001b[39m\u001b[39m%s\u001b[39;00m\u001b[39m\"\u001b[39m, function)\n\u001b[1;32m--> 110\u001b[0m     result \u001b[39m=\u001b[39m function()\n\u001b[0;32m    111\u001b[0m     LOG\u001b[39m.\u001b[39mdebug(\u001b[39m\"\u001b[39m\u001b[39moperation \u001b[39m\u001b[39m%s\u001b[39;00m\u001b[39m completed\u001b[39m\u001b[39m\"\u001b[39m, function)\n\u001b[0;32m    113\u001b[0m     \u001b[39mdef\u001b[39;00m \u001b[39mset_result\u001b[39m(fut, result):\n",
      "\u001b[1;31mIntegrityError\u001b[0m: (sqlite3.IntegrityError) UNIQUE constraint failed: jobs.id\n[SQL: INSERT INTO jobs (id, title, \"initialPublicationDate\", \"publicationDate\", \"employmentGrades\", preview, logo, \"isActive\", place, \"salaryFrom\", \"salaryTo\", \"languageSkills\", \"company.name\", \"company.id\", \"company.slug\", \"company.visible\", \"company.logoImage.src\", \"company.logoImage.height\", \"company.logoImage.width\", \"company.url\", job_url, \"queryId\", \"subQueryId\", \"dateLog\") VALUES (?, ?, ?, ?, ?, ?, ?, ?, ?, ?, ?, ?, ?, ?, ?, ?, ?, ?, ?, ?, ?, ?, ?, CURRENT_TIMESTAMP)]\n[parameters: (('', 'Head of Finance - Banking', '2023-08-04 17:06:49.000000', '2023-08-04 17:05:11.000000', '100%', 'Client: \\nA leading, innovative, modern bank with a strong presence in Switzerland. We have been asked to find someone with CFO potential for this ...', nan, 1, '1211 Geneva, Switzerland', None, None, \"[{'language': 'fr', 'level': 3}, {'language': 'en', 'level': 3}]\", 'FINDERS SA', '69679', '69679-finders-sa', 1, nan, nan, nan, 'https://www.jobs.ch/en/companies/69679/', 'https://www.jobs.ch/en/vacancies/detail/', None, None), ('', 'Sales Specialist m/f/d (80-100%)', '2023-08-03 10:07:18.000000', '2023-08-03 10:05:16.000000', '80% – 100%', 'Responsible to develop the Energy market by executing sales strategy to achieve and exceed the sales target and ensure high levels of customer satisfa', 'https://media.jobs.ch/images/15277a6d-aaa1-471d-aa28-0b76b85d486a/124x44.png', 1, 'Turgi, Aargau, Switzerland', None, None, \"[{'language': 'en', 'level': 3}, {'language': 'de', 'level': 1}, {'language': 'fr', 'level': 1}]\", 'ABB Switzerland Ltd', '55089', '55089-abb-switzerland-ltd', 1, 'https://media.jobs.ch/images/15277a6d-aaa1-471d-aa28-0b76b85d486a/124x44.png', 44.0, 124.0, 'https://www.jobs.ch/en/companies/55089/', 'https://www.jobs.ch/en/vacancies/detail/', None, None), ('', 'Summer Camps Junior Coaches - Various Activities', '2023-07-04 10:06:55.000000', '2023-08-03 01:58:57.000000', '80% – 100%', 'Foundation \\nLa Grande Boissière/ La Châtaigneraie/ Nations \\nEcolint Camps Department \\nSeeks for Summer Camps 2023 and/or Half term holidays ...', nan, 1, 'Geneva, Switzerland', None, None, '[]', 'Ecolint', '78430', '78430-ecolint', 1, nan, nan, nan, 'https://www.jobs.ch/en/companies/78430/', 'https://www.jobs.ch/en/vacancies/detail/', None, None), ('', 'Mechaniker:in als Einfahrer:in 100 %', '2023-07-31 05:06:45.000000', '2023-07-31 05:05:12.000000', '100%', 'Die Aebi Schmidt Group sucht für das Produktionswerk in\\xa0CH-3401 Burgdorf\\xa0eine:n \\nMechaniker:in als Einfahrer:in 100 % \\nDeine Aufgaben: \\nDu fährst ...', 'https://media.jobs.ch/images/02f2f808-3aa6-486e-a3be-6cd9b692abb8/124x44.png', 1, 'Burgdorf, Berne, Switzerland', None, None, \"[{'language': 'de', 'level': 4}]\", 'Aebi & Co. AG', '32536', '32536-aebi-and-co-ag', 1, 'https://media.jobs.ch/images/02f2f808-3aa6-486e-a3be-6cd9b692abb8/124x44.png', 44.0, 124.0, 'https://www.jobs.ch/en/companies/32536/', 'https://www.jobs.ch/en/vacancies/detail/', None, None), ('', 'Area Sales Manager Operations 80 - 100% (w/m/d)', '2023-07-28 10:36:58.000000', '2023-07-28 10:35:22.000000', '80% – 100%', 'Die Business Unit Operations ist organisatorisch der Hamilton Bonaduz AG angegliedert, produziert aber Teile für alle Hamilton-Firmen. Ziel von ...', 'https://media.jobs.ch/images/33cfd4b4-e867-4eef-b59c-5374ad35af6f/Logo_Hamilton_Bonaduz_300x150-300x150.png', 1, 'Switzerland', None, None, \"[{'language': 'de', 'level': 2}]\", 'Hamilton Services AG', '32690', '32690-hamilton-services-ag', 1, 'https://media.jobs.ch/images/33cfd4b4-e867-4eef-b59c-5374ad35af6f/Logo_Hamilton_Bonaduz_300x150-300x150.png', 44.0, 124.0, 'https://www.jobs.ch/en/companies/32690/', 'https://www.jobs.ch/en/vacancies/detail/', None, None), ('', 'Global Education Manager Surgical & Wound Care 80%', '2023-07-27 06:00:00.000000', '2023-07-28 03:00:00.000000', '80%', 'You are on a mission of establishing patient-centered care? You enjoy driving education and innovation. You are looking for a position to make the ...', 'https://media.jobs.ch/images/63f17d5a-715d-46e3-98bf-fac74a634a8b/248x88.png', 1, 'Baar - Switzerland', None, None, '[]', 'Medela AG', '2092', '2092-medela-ag', 1, 'https://media.jobs.ch/images/63f17d5a-715d-46e3-98bf-fac74a634a8b/248x88.png', 44.0, 124.0, 'https://www.jobs.ch/en/companies/2092/', 'https://www.jobs.ch/en/vacancies/detail/', None, None), ('', '(Senior) Scientist Ph.D. Power Electronic Converters (80-100%)', '2023-07-27 14:06:50.000000', '2023-07-27 14:04:55.000000', '80% – 100%', 'The mission of this team is to bring modern and disruptive power electronic solutions from research into product development. We improve our products', 'https://media.jobs.ch/images/15277a6d-aaa1-471d-aa28-0b76b85d486a/124x44.png', 1, 'Baden-Dattwil, Aargau, Switzerland', None, None, \"[{'language': 'en', 'level': 3}]\", 'ABB Switzerland Ltd', '55089', '55089-abb-switzerland-ltd', 1, 'https://media.jobs.ch/images/15277a6d-aaa1-471d-aa28-0b76b85d486a/124x44.png', 44.0, 124.0, 'https://www.jobs.ch/en/companies/55089/', 'https://www.jobs.ch/en/vacancies/detail/', None, None), ('', 'Electrical Engineer (80-100%)', '2023-07-27 13:36:55.000000', '2023-07-27 13:34:58.000000', '80% – 100%', 'In this role, you will help defining development opportunities in the ABB power device and switchgear portfolio through to-the-application designed ex', 'https://media.jobs.ch/images/15277a6d-aaa1-471d-aa28-0b76b85d486a/124x44.png', 1, 'Baden-Dattwil, Aargau, Switzerland', None, None, \"[{'language': 'en', 'level': 2}, {'language': 'de', 'level': 1}]\", 'ABB Switzerland Ltd', '55089', '55089-abb-switzerland-ltd', 1, 'https://media.jobs.ch/images/15277a6d-aaa1-471d-aa28-0b76b85d486a/124x44.png', 44.0, 124.0, 'https://www.jobs.ch/en/companies/55089/', 'https://www.jobs.ch/en/vacancies/detail/', None, None)  ... displaying 10 of 20 total bound parameter sets ...  ('', 'Temporary Group FP&A Analyst (maternity cover)', '2023-07-18 13:37:10.000000', '2023-07-18 13:33:26.000000', '100%', 'Temporary Group FP&A Analyst (maternity cover) \\nHeadquartered in Cham, Switzerland since 1957, Selecta Group is a Foodtech company with a leading ...', 'https://media.jobs.ch/images/4a231cc8-8394-403c-8cf9-ab704825774b/124x44.png', 1, 'Cham, Switzerland', None, None, \"[{'language': 'en', 'level': 3}]\", 'Selecta AG', '2596', '2596-selecta-ag', 1, 'https://media.jobs.ch/images/4a231cc8-8394-403c-8cf9-ab704825774b/124x44.png', 44.0, 124.0, 'https://www.jobs.ch/en/companies/2596/', 'https://www.jobs.ch/en/vacancies/detail/', None, None), ('', 'Uhrmacher/in Produktion,100 %', '2023-07-18 09:07:06.000000', '2023-07-18 09:04:46.000000', '100%', 'Zur Unterstützung der Abteilungen T2 / T3 suchen wir per nächstmöglichen Termin einen/eine Uhrmacher/in Produktion.', 'https://media.jobs.ch/images/0dc3707e-9ed7-4e90-b1f9-938606755b17/124x44.png', 1, 'Solothurn, Switzerland', None, None, \"[{'language': 'de', 'level': 2}]\", 'Remonta AG', '41241', '41241-remonta-ag', 1, 'https://media.jobs.ch/images/0dc3707e-9ed7-4e90-b1f9-938606755b17/124x44.png', 44.0, 124.0, 'https://www.jobs.ch/en/companies/41241/', 'https://www.jobs.ch/en/vacancies/detail/', None, None))]\n(Background on this error at: https://sqlalche.me/e/14/gkpj)"
     ]
    }
   ],
   "source": [
    "JOB_LISTING_COLS: list[str] = [\n",
    "    \"title\",\n",
    "    \"id\",\n",
    "    \"initialPublicationDate\",\n",
    "    \"publicationDate\",\n",
    "    \"employmentGrades\",\n",
    "    \"preview\",\n",
    "    \"logo\",\n",
    "    \"isActive\",\n",
    "    \"languageSkills\",\n",
    "    \"place\",\n",
    "    \"salaryFrom\",\n",
    "    \"salaryTo\",\n",
    "    \"company.name\",\n",
    "    \"company.id\",\n",
    "    \"company.slug\",\n",
    "    \"company.visible\",\n",
    "    \"company.logoImage.src\",\n",
    "    \"company.logoImage.height\",\n",
    "    \"company.logoImage.width\",\n",
    "    \"company_url\",\n",
    "    \"job_url\",\n",
    "]\n",
    "\n",
    "\n",
    "def construnct_job_url(job_id) -> str:\n",
    "    return BASE_URL_JOB_VAR.format(job_id)\n",
    "\n",
    "\n",
    "def construnct_company_url(company_id) -> str:\n",
    "    return BASE_URL_COMPANY_VAR.format(company_id)\n",
    "\n",
    "def extract_job_info(job) -> dict[str, Any]:\n",
    "    return {\n",
    "        \"title\": job.get(\"title\", \"\"),\n",
    "        \"id\": job.get(\"id\", \"\"),\n",
    "        \"initialPublicationDate\": job.get(\"initialPublicationDate\", \"\"),\n",
    "        \"publicationDate\": job.get(\"publicationDate\", \"\"),\n",
    "        \"employmentGrades\": job.get(\"employmentGrades\", \"\"),\n",
    "        \"preview\": job.get(\"preview\", \"\"),\n",
    "        \"logo\": job.get(\"logo\", \"\"),\n",
    "        \"isActive\": job.get(\"isActive\", \"\"),\n",
    "        \"languageSkills\": job.get(\"languageSkills\", \"\"),\n",
    "        \"place\": job.get(\"place\", \"\"),\n",
    "        \"salaryFrom\": job.get(\"salaryFrom\", \"\"),\n",
    "        \"salaryTo\": job.get(\"salaryTo\", \"\"),\n",
    "        \"company_name\": job.get(\"company.name\", \"\"),\n",
    "        \"company_id\": job.get(\"company.id\", \"\"),\n",
    "        \"company_slug\": job.get(\"company.slug\", \"\"),\n",
    "        \"company_visible\": job.get(\"company.visible\", \"\"),\n",
    "        \"company_logoImage_src\": job.get(\"company.logoImage.src\", \"\"),\n",
    "        \"company_logoImage_height\": job.get(\"company.logoImage.height\", \"\"),\n",
    "        \"company_logoImage_width\": job.get(\"company.logoImage.width\", \"\"),\n",
    "        \"company_url\": construnct_company_url(job.get(\"company.id\", \"\")),\n",
    "        \"job_url\": construnct_job_url(job.get(\"id\", \"\")),\n",
    "    }\n",
    "\n",
    "async def scrape_jobs(data_parsed):\n",
    "    jobs_df: DataFrame = pd.json_normalize(\n",
    "        data_parsed[1][\"vacancy\"][\"results\"][\"main\"][\"results\"]\n",
    "    )\n",
    "    jobs_df.loc[:, \"company_url\"] = jobs_df[\"company.slug\"].agg(construnct_company_url)\n",
    "    jobs_df.loc[:, \"job_url\"] = jobs_df[\"id\"].agg(construnct_job_url)\n",
    "    jobs_df.loc[:, \"languageSkills\"] = jobs_df.loc[:, \"languageSkills\"].astype(str)\n",
    "    \n",
    "    jobs_df['initialPublicationDate'] = pd.to_datetime(jobs_df['initialPublicationDate'], format='%Y-%m-%dT%H:%M:%S%z')\n",
    "    jobs_df['publicationDate'] = pd.to_datetime(jobs_df['publicationDate'], format='%Y-%m-%dT%H:%M:%S%z')\n",
    "    \n",
    "    \n",
    "    jobs: DataFrame = jobs_df.loc[:, JOB_LISTING_COLS].set_index(\"id\")\n",
    "    \n",
    "\n",
    "    job_dicts = [extract_job_info(job[1]) for job in  jobs.iterrows()]\n",
    "    return await db.create_objs(db.models.Job, job_dicts)\n",
    "\n",
    "await scrape_jobs(data_parsed)"
   ]
  },
  {
   "cell_type": "code",
   "execution_count": null,
   "metadata": {},
   "outputs": [],
   "source": [
    "'2023-08-04T17:06:49+02:00'"
   ]
  },
  {
   "cell_type": "markdown",
   "metadata": {},
   "source": [
    "### jobs\n"
   ]
  },
  {
   "cell_type": "code",
   "execution_count": null,
   "metadata": {},
   "outputs": [],
   "source": [
    "data_parsed[1][\"vacancy\"][\"results\"][\"main\"][\"results\"]\n",
    "# write_string_to_txt_file(\"data_parsed.py\", data_parsed)\n",
    "with open(\"jobs.py\", \"w\") as file:\n",
    "    # Pretty print the list and write it to the file\n",
    "    pprint.pprint(_, stream=file)\n"
   ]
  },
  {
   "cell_type": "code",
   "execution_count": 15,
   "metadata": {},
   "outputs": [
    {
     "data": {
      "text/plain": [
       "Index(['applicationQuestions', 'benefits', 'categories', 'contactAddress',\n",
       "       'contactDetails', 'contactPerson', 'contacts', 'employmentGrades',\n",
       "       'employmentGradesList', 'employmentPositionIds', 'employmentTypeIds',\n",
       "       'headhunterApplicationAllowed', 'id', 'initialPublicationDate',\n",
       "       'isActive', 'isInsecureExternal', 'isWebVacancy', 'languageSkills',\n",
       "       'layoutType', 'listingTags', 'locations', 'offerId', 'place', 'preview',\n",
       "       'publicationDate', 'regions', 'salaryFrom', 'salaryTo',\n",
       "       'sourceHostname', 'title', 'videos', 'regionId', 'displayType',\n",
       "       'company.id', 'company.name', 'company.slug', 'company.visible', 'logo',\n",
       "       'company.companyLogoFile', 'company.logoImage.src',\n",
       "       'company.logoImage.height', 'company.logoImage.width', 'mood'],\n",
       "      dtype='object')"
      ]
     },
     "execution_count": 15,
     "metadata": {},
     "output_type": "execute_result"
    }
   ],
   "source": [
    "jobs_df: DataFrame = pd.json_normalize(\n",
    "    data_parsed[1][\"vacancy\"][\"results\"][\"main\"][\"results\"]\n",
    ")\n",
    "jobs_df.columns\n"
   ]
  },
  {
   "cell_type": "code",
   "execution_count": 25,
   "metadata": {},
   "outputs": [],
   "source": [
    "job_listing_cols: list[str] = [\n",
    "    \"title\",\n",
    "    \"id\",\n",
    "    \"initialPublicationDate\",\n",
    "    \"publicationDate\",\n",
    "    \"employmentGrades\",\n",
    "    \"preview\",\n",
    "    \"logo\",\n",
    "    \"isActive\",\n",
    "    \"languageSkills\",\n",
    "    \"place\",\n",
    "    \"salaryFrom\",\n",
    "    \"salaryTo\",\n",
    "    \"company.name\",\n",
    "    \"company.id\",\n",
    "    \"company.slug\",\n",
    "    \"company.visible\",\n",
    "    \"company.logoImage.src\",\n",
    "    \"company.logoImage.height\",\n",
    "    \"company.logoImage.width\",\n",
    "    \"company_url\",\n",
    "    \"job_url\",\n",
    "]\n",
    "\n",
    "\n",
    "def construnct_job_url(job_id) -> str:\n",
    "    return BASE_URL_JOB_VAR.format(job_id)\n",
    "\n",
    "\n",
    "def construnct_company_url(company_id) -> str:\n",
    "    return BASE_URL_COMPANY_VAR.format(company_id)\n",
    "\n",
    "\n",
    "jobs_df.loc[:, \"company_url\"] = jobs_df[\"company.slug\"].agg(construnct_company_url)\n",
    "jobs_df.loc[:, \"job_url\"] = jobs_df[\"id\"].agg(construnct_job_url)\n",
    "jobs_df.loc[:, \"languageSkills\"] = jobs_df.loc[:, \"languageSkills\"].astype(str)"
   ]
  },
  {
   "cell_type": "code",
   "execution_count": null,
   "metadata": {},
   "outputs": [
    {
     "data": {
      "text/plain": [
       "(20, 20)"
      ]
     },
     "execution_count": 20,
     "metadata": {},
     "output_type": "execute_result"
    }
   ],
   "source": [
    "jobs: DataFrame = jobs_df.loc[:, job_listing_cols].set_index(\"id\")\n",
    "jobs.shape"
   ]
  },
  {
   "cell_type": "code",
   "execution_count": null,
   "metadata": {},
   "outputs": [
    {
     "data": {
      "text/plain": [
       "20"
      ]
     },
     "execution_count": 21,
     "metadata": {},
     "output_type": "execute_result"
    }
   ],
   "source": [
    "# save the dataframe to a table named 'users'\n",
    "jobs.drop([\"languageSkills\"], axis=1).to_sql(\"jobs2\", engineSync, if_exists=\"append\")"
   ]
  },
  {
   "cell_type": "markdown",
   "metadata": {},
   "source": [
    "### job\n"
   ]
  },
  {
   "cell_type": "code",
   "execution_count": 23,
   "metadata": {},
   "outputs": [],
   "source": [
    "def extract_job_info(job) -> dict[str, Any]:\n",
    "    return {\n",
    "        \"title\": job.get(\"title\", \"\"),\n",
    "        \"id\": job.get(\"id\", \"\"),\n",
    "        \"initialPublicationDate\": job.get(\"initialPublicationDate\", \"\"),\n",
    "        \"publicationDate\": job.get(\"publicationDate\", \"\"),\n",
    "        \"employmentGrades\": job.get(\"employmentGrades\", \"\"),\n",
    "        \"preview\": job.get(\"preview\", \"\"),\n",
    "        \"logo\": job.get(\"logo\", \"\"),\n",
    "        \"isActive\": job.get(\"isActive\", \"\"),\n",
    "        \"languageSkills\": job.get(\"languageSkills\", \"\"),\n",
    "        \"place\": job.get(\"place\", \"\"),\n",
    "        \"salaryFrom\": job.get(\"salaryFrom\", \"\"),\n",
    "        \"salaryTo\": job.get(\"salaryTo\", \"\"),\n",
    "        \"company.name\": job.get(\"company.name\", \"\"),\n",
    "        \"company.id\": job.get(\"company.id\", \"\"),\n",
    "        \"company.slug\": job.get(\"company.slug\", \"\"),\n",
    "        \"company.visible\": job.get(\"company.visible\", \"\"),\n",
    "        \"company.logoImage.src\": job.get(\"company.logoImage.src\", \"\"),\n",
    "        \"company.logoImage.height\": job.get(\"company.logoImage.height\", \"\"),\n",
    "        \"company.logoImage.width\": job.get(\"company.logoImage.width\", \"\"),\n",
    "        \"company.url\": construnct_company_url(job.get(\"company.id\", \"\")),\n",
    "        \"url\": construnct_job_url(job.get(\"id\", \"\")),\n",
    "    }\n",
    "\n",
    "\n",
    "# extract_job_info(jobs_df.iloc[0])"
   ]
  },
  {
   "cell_type": "code",
   "execution_count": null,
   "metadata": {},
   "outputs": [
    {
     "data": {
      "text/plain": [
       "'Summer Camps Junior Coaches - Various Activities'"
      ]
     },
     "execution_count": 20,
     "metadata": {},
     "output_type": "execute_result"
    },
    {
     "data": {
      "text/plain": [
       "'c031309d-69c4-4efc-bcc9-e66b8f3b80d3'"
      ]
     },
     "execution_count": 20,
     "metadata": {},
     "output_type": "execute_result"
    },
    {
     "data": {
      "text/plain": [
       "'2023-07-04T10:06:55+02:00'"
      ]
     },
     "execution_count": 20,
     "metadata": {},
     "output_type": "execute_result"
    },
    {
     "data": {
      "text/plain": [
       "'2023-08-03T01:58:57+02:00'"
      ]
     },
     "execution_count": 20,
     "metadata": {},
     "output_type": "execute_result"
    },
    {
     "data": {
      "text/plain": [
       "'80% – 100%'"
      ]
     },
     "execution_count": 20,
     "metadata": {},
     "output_type": "execute_result"
    },
    {
     "data": {
      "text/plain": [
       "'Foundation \\nLa Grande Boissière/ La Châtaigneraie/ Nations \\nEcolint Camps Department \\nSeeks for Summer Camps 2023 and/or Half term holidays ...'"
      ]
     },
     "execution_count": 20,
     "metadata": {},
     "output_type": "execute_result"
    },
    {
     "data": {
      "text/plain": [
       "nan"
      ]
     },
     "execution_count": 20,
     "metadata": {},
     "output_type": "execute_result"
    },
    {
     "data": {
      "text/plain": [
       "True"
      ]
     },
     "execution_count": 20,
     "metadata": {},
     "output_type": "execute_result"
    },
    {
     "data": {
      "text/plain": [
       "[]"
      ]
     },
     "execution_count": 20,
     "metadata": {},
     "output_type": "execute_result"
    },
    {
     "data": {
      "text/plain": [
       "'Geneva, Switzerland'"
      ]
     },
     "execution_count": 20,
     "metadata": {},
     "output_type": "execute_result"
    },
    {
     "data": {
      "text/plain": [
       "'Ecolint'"
      ]
     },
     "execution_count": 20,
     "metadata": {},
     "output_type": "execute_result"
    },
    {
     "data": {
      "text/plain": [
       "'78430'"
      ]
     },
     "execution_count": 20,
     "metadata": {},
     "output_type": "execute_result"
    },
    {
     "data": {
      "text/plain": [
       "'78430-ecolint'"
      ]
     },
     "execution_count": 20,
     "metadata": {},
     "output_type": "execute_result"
    },
    {
     "data": {
      "text/plain": [
       "True"
      ]
     },
     "execution_count": 20,
     "metadata": {},
     "output_type": "execute_result"
    },
    {
     "data": {
      "text/plain": [
       "nan"
      ]
     },
     "execution_count": 20,
     "metadata": {},
     "output_type": "execute_result"
    },
    {
     "data": {
      "text/plain": [
       "nan"
      ]
     },
     "execution_count": 20,
     "metadata": {},
     "output_type": "execute_result"
    },
    {
     "data": {
      "text/plain": [
       "nan"
      ]
     },
     "execution_count": 20,
     "metadata": {},
     "output_type": "execute_result"
    }
   ],
   "source": [
    "jobs_df.iloc[0][\"title\"]\n",
    "jobs_df.iloc[0][\"id\"]\n",
    "jobs_df.iloc[0][\"initialPublicationDate\"]\n",
    "jobs_df.iloc[0][\"publicationDate\"]\n",
    "jobs_df.iloc[0][\"employmentGrades\"]\n",
    "jobs_df.iloc[0][\"preview\"]\n",
    "jobs_df.iloc[0][\"logo\"]\n",
    "jobs_df.iloc[0][\"isActive\"]\n",
    "jobs_df.iloc[0][\"languageSkills\"]\n",
    "jobs_df.iloc[0][\"place\"]\n",
    "jobs_df.iloc[0][\"salaryFrom\"]\n",
    "jobs_df.iloc[0][\"salaryTo\"]\n",
    "jobs_df.iloc[0][\"company.name\"]\n",
    "jobs_df.iloc[0][\"company.id\"]\n",
    "jobs_df.iloc[0][\"company.slug\"]\n",
    "jobs_df.iloc[0][\"company.visible\"]\n",
    "jobs_df.iloc[0][\"company.logoImage.src\"]\n",
    "jobs_df.iloc[0][\"company.logoImage.height\"]\n",
    "jobs_df.iloc[0][\"company.logoImage.width\"]\n"
   ]
  }
 ],
 "metadata": {
  "kernelspec": {
   "display_name": "ibmenv",
   "language": "python",
   "name": "python3"
  },
  "language_info": {
   "codemirror_mode": {
    "name": "ipython",
    "version": 3
   },
   "file_extension": ".py",
   "mimetype": "text/x-python",
   "name": "python",
   "nbconvert_exporter": "python",
   "pygments_lexer": "ipython3",
   "version": "3.10.10"
  },
  "orig_nbformat": 4
 },
 "nbformat": 4,
 "nbformat_minor": 2
}
