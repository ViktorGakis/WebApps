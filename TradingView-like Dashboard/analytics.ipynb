{
 "cells": [
  {
   "cell_type": "code",
   "execution_count": 1,
   "metadata": {},
   "outputs": [],
   "source": [
    "import plotly.graph_objs as go\n",
    "import plotly.offline as pyo\n",
    "import plotly.io as pio\n",
    "import ta\n",
    "import pandas as pd\n",
    "import numpy as np\n",
    "import yfinance as yf\n",
    "from pandas import DataFrame\n",
    "# Set the default template to plotly_dark\n",
    "pio.templates.default = 'plotly_dark'"
   ]
  },
  {
   "cell_type": "code",
   "execution_count": 7,
   "metadata": {},
   "outputs": [],
   "source": [
    "import yfinance as yf\n",
    "import pandas as pd\n",
    "\n",
    "\n",
    "class StockData:\n",
    "    \"\"\"\n",
    "    A class that retrieves historical stock data from Yahoo Finance using the yfinance library.\n",
    "\n",
    "    Attributes:\n",
    "        symbol (str): The stock symbol to retrieve data for.\n",
    "\n",
    "        start_date (str): The start date of the date range to retrieve data for, in YYYY-MM-DD format.\n",
    "\n",
    "        end_date (str): The end date of the date range to retrieve data for, in YYYY-MM-DD format.\n",
    "\n",
    "        interval (str): The time interval between data points. Valid values are '1d' (daily), '1wk' (weekly), '1mo' (monthly), '1m' (1-minute), '2m' (2-minute), '5m' (5-minute), '15m' (15-minute), '30m' (30-minute), '60m' (60-minute), '90m' (90-minute), and '1h' (hourly).\n",
    "\n",
    "        data (pandas.DataFrame): The retrieved stock data.\n",
    "    \"\"\"\n",
    "\n",
    "    def __init__(self, symbol, start_date=None, end_date=None, interval=\"1d\") -> None:\n",
    "\n",
    "        self.startup(symbol, start_date, end_date, interval)\n",
    "\n",
    "    def startup(self, symbol, start_date, end_date, interval) -> None:\n",
    "        \"\"\"\n",
    "        Constructs a new StockData object and downloads the stock data from Yahoo Finance.\n",
    "\n",
    "        Args:\n",
    "            symbol (str): The stock symbol to retrieve data for.\n",
    "\n",
    "            start_date (str): The start date of the date range to retrieve data for, in YYYY-MM-DD format.\n",
    "\n",
    "            end_date (str): The end date of the date range to retrieve data for, in YYYY-MM-DD format.\n",
    "\n",
    "            interval (str, optional): The time interval between data points. Default is '1d' for daily data. Valid values are '1d' (daily), '1wk' (weekly), '1mo' (monthly), '1m' (1-minute), '2m' (2-minute), '5m' (5-minute), '15m' (15-minute), '30m' (30-minute), '60m' (60-minute), '90m' (90-minute), and '1h' (hourly).\n",
    "        \"\"\"\n",
    "        self.symbol: str = symbol\n",
    "        self.start_date: str = start_date\n",
    "        self.end_date: str = end_date\n",
    "        self.interval: str = interval\n",
    "        self.data: DataFrame = yf.download(\n",
    "            symbol, start=start_date, end=end_date, interval=interval\n",
    "        )\n",
    "\n",
    "    def __repr__(self) -> str:\n",
    "        \"\"\"\n",
    "        Returns a string representation of the StockData object.\n",
    "        \"\"\"\n",
    "        return f\"StockData(symbol={self.symbol}, start_date={self.start_date}, end_date={self.end_date}, interval={self.interval})\"\n",
    "\n",
    "    def __str__(self) -> str:\n",
    "        \"\"\"\n",
    "        Returns a string representation of the stock data.\n",
    "        \"\"\"\n",
    "        return str(self.data)"
   ]
  },
  {
   "cell_type": "code",
   "execution_count": 10,
   "metadata": {},
   "outputs": [
    {
     "name": "stdout",
     "output_type": "stream",
     "text": [
      "[*********************100%***********************]  1 of 1 completed\n"
     ]
    }
   ],
   "source": [
    "stockdata = StockData(\n",
    "    symbol='TSLA'\n",
    ")\n",
    "df: DataFrame = stockdata.data"
   ]
  },
  {
   "cell_type": "code",
   "execution_count": null,
   "metadata": {},
   "outputs": [],
   "source": []
  }
 ],
 "metadata": {
  "kernelspec": {
   "display_name": "ibmenv",
   "language": "python",
   "name": "python3"
  },
  "language_info": {
   "codemirror_mode": {
    "name": "ipython",
    "version": 3
   },
   "file_extension": ".py",
   "mimetype": "text/x-python",
   "name": "python",
   "nbconvert_exporter": "python",
   "pygments_lexer": "ipython3",
   "version": "3.10.9"
  },
  "orig_nbformat": 4
 },
 "nbformat": 4,
 "nbformat_minor": 2
}
